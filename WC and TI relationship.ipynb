{
 "cells": [
  {
   "cell_type": "markdown",
   "metadata": {},
   "source": [
    "### Model of how TI and WC relate ###\n",
    "\n",
    "I am interested in how for a set of overlapping receptive subunit receptive fields with their own degrees of TI what is the TI of the output of their sum. \n",
    "\n",
    "We will start with the simplest possible non-trivial case: two completely overlapping subunit receptive fields.\n",
    "\n",
    "The variables we will be dealing with are:\n",
    "\n",
    "$W \\in [-1, 1]$ weight covariance indexing how similar subunits are. \n",
    "\n",
    "$TI_i \\in [-1, 1]$ a subunits TI here we for only two positions i.e. the correlation between two positions.\n",
    "\n",
    "$\\vec{r}_{c, p}$ which is the vector of responses from the ith subunit at the pth position. Here we will assume it is unit length.\n",
    "\n",
    "$\\vec{R}_{p}$ which is the sum over subunits.\n",
    "\n",
    "so:\n",
    "\n",
    "$TI_1 = \\vec{r}_{1, 1} \\vec{r}_{1,2}$\n",
    "\n",
    "$TI_2 = \\vec{r}_{2, 1} \\vec{r}_{2,2}$\n",
    "\n",
    "Then with two fully overlapped receptive fields the response is just the sum of the two so:\n",
    "\n",
    "$\\vec{R}_{1} = \\vec{r}_{c=1, p=1} + \\vec{r}_{c=2, p=1}$\n",
    "\n",
    "$\\vec{R}_{2} = \\vec{r}_{c=1, p=2} + \\vec{r}_{c=2, p=2}$\n",
    "\n",
    "Then:\n",
    "\n",
    "$num(TI_R) =  (\\vec{R}_{1} \\vec{R}_{2}) = (\\vec{r}_{c=1, p=2} + \\vec{r}_{c=2, p=2}) (\\vec{r}_{c=1, p=1} + \\vec{r}_{c=2, p=1})$\n",
    "\n",
    "since:\n",
    "\n",
    "$(a+b)(c+d) = ac + ad + bc + bd$"
   ]
  },
  {
   "cell_type": "markdown",
   "metadata": {},
   "source": [
    "$num(TI_R) = \\vec{r}_{c=1, p=1}\\vec{r}_{c=1, p=2} + \\vec{r}_{c=1, p=1} \\vec{r}_{c=2, p=2} + \\vec{r}_{c=2, p=1} \\vec{r}_{c=1, p=2} +    \\vec{r}_{c=2, p=1}\\vec{r}_{c=2, p=2}$\n",
    "\n",
    "$= TI_1 + TI_2 + $ the correlation of different subinits responses to stimuli at different positions to the stimuli.\n",
    "\n",
    "\n",
    "lets call this cross-channel-position product $cp$, it is the only real unknown we will need to make some assumptions to estimate here. Clearly it will be a function of  $(W, TI_1, TI_2)$. \n",
    "\n",
    "$\\vec{r}_{c=1, p=1} \\vec{r}_{c=2, p=2}$\n",
    "\n",
    "We can think of the act of translating the stimuli, or changing spatial channels, as perturbing the response vector with sphericial gaussian noise. Sobegining with a fixed random vector, which is then perturbed to on average have $W$ correlation with the original fixed vector, say at $p=1$. Then one, say ${\\vec{r}_{c=2, p=1}}$ is perturbed by spherical random noise so that on average it has a correlation of TI_2 with the original and this is $\\vec{r}_{c=2, p=2}$. \n",
    "\n",
    "Assuming these perturbations are independent we must then determine $\\sigma^2_{TI}$ and $\\sigma^2_{W}$ which produced TI and W. That is we need to determine the form of the function \n",
    "$E[\\hat{R}(\\vec{r}, \\vec{r} + N(0, \\sigma^2))]$\n",
    "\n"
   ]
  },
  {
   "cell_type": "markdown",
   "metadata": {},
   "source": [
    "\n",
    "\n",
    "$den(TI_R) = |\\vec{r}_{c=1, p=1} + \\vec{r}_{c=2, p=1}| |\\vec{r}_{c=1, p=2} + \\vec{r}_{c=2, p=2}| $\n",
    "\n",
    "$|\\vec{r}_{c=1, p=1} + \\vec{r}_{c=2, p=1}| = 2 + 2\\vec{r}_{c=1, p=1}\\vec{r}_{c=2, p=1} = 2 + 2W $\n",
    "\n",
    "$|\\vec{r}_{c=1, p=2} + \\vec{r}_{c=2, p=2}| = 2 + 2\\vec{r}_{c=1, p=2}\\vec{r}_{c=2, p=2} = 2 + 2W$\n",
    "\n"
   ]
  },
  {
   "cell_type": "markdown",
   "metadata": {},
   "source": [
    "### Scratch###\n",
    "Things we want to take into account:\n",
    "\n",
    "Size of stimuli.\n",
    "Positions tested.\n",
    "RF overlap.\n",
    "TI of subunits.\n",
    "Preference for stimuli. \n",
    "\n",
    "Where variability in relationship comes from: non-preferred stimuli, .\n",
    "\n",
    "You are taking a weighted sum of  vectors drifting at different rates proportional to translation invariance\n",
    "\n",
    "Its the distribution of a set of random walks with different distances moved at each step and from different starting points. Is this a radial distribution in the limit?\n",
    "\n",
    "Max pooling gives you an average jump in TI because... there was the lecunn pooling paper. Its a sparsity prior, your saying that the max is the most likely to be the true signal as opposed to thinking that the signal is spread through out."
   ]
  },
  {
   "cell_type": "code",
   "execution_count": null,
   "metadata": {
    "collapsed": true
   },
   "outputs": [],
   "source": []
  }
 ],
 "metadata": {
  "kernelspec": {
   "display_name": "Python 2",
   "language": "python",
   "name": "python2"
  },
  "language_info": {
   "codemirror_mode": {
    "name": "ipython",
    "version": 2
   },
   "file_extension": ".py",
   "mimetype": "text/x-python",
   "name": "python",
   "nbconvert_exporter": "python",
   "pygments_lexer": "ipython2",
   "version": "2.7.13"
  }
 },
 "nbformat": 4,
 "nbformat_minor": 2
}
