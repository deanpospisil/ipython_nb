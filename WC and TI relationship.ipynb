{
 "cells": [
  {
   "cell_type": "markdown",
   "metadata": {},
   "source": [
    "### Model of how TI and WC relate ###\n",
    "\n",
    "Things we want to take into account:\n",
    "\n",
    "Size of stimuli.\n",
    "Positions tested.\n",
    "RF overlap.\n",
    "TI of subunits.\n",
    "\n",
    "Where variability in relationship comes from: non-preferred stimuli, .\n",
    "\n",
    "You are taking a weighted sum of  vectors drifting at different rates proportional to translation invariance\n",
    "\n",
    "Its the distribution of a set of random walks with different distances moved at each step and from different starting points. Is this a radial distribution in the limit?\n",
    "\n",
    "Max pooling gives you an average jump in TI because... there was the lecunn pooling paper. Its a sparsity prior, your saying that the max is the most likely to be the true signal as opposed to thinking that the signal is spread through out."
   ]
  }
 ],
 "metadata": {
  "kernelspec": {
   "display_name": "Python 2",
   "language": "python",
   "name": "python2"
  },
  "language_info": {
   "codemirror_mode": {
    "name": "ipython",
    "version": 2
   },
   "file_extension": ".py",
   "mimetype": "text/x-python",
   "name": "python",
   "nbconvert_exporter": "python",
   "pygments_lexer": "ipython2",
   "version": "2.7.13"
  }
 },
 "nbformat": 4,
 "nbformat_minor": 2
}
