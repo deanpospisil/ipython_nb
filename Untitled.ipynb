{
 "cells": [
  {
   "cell_type": "code",
   "execution_count": 111,
   "metadata": {
    "collapsed": false
   },
   "outputs": [
    {
     "data": {
      "image/png": "[encoded data removed]",
      "text/plain": [
       "<matplotlib.figure.Figure at 0x10ae969e8>"
      ]
     },
     "metadata": {},
     "output_type": "display_data"
    }
   ],
   "source": [
    "import pandas as pd\n",
    "import numpy as np\n",
    "from scipy.interpolate import interp1d\n",
    "from scipy import interpolate\n",
    "import matplotlib.pyplot as plt\n",
    "def adjust_spines(ax, spines):\n",
    "    for loc, spine in ax.spines.items():\n",
    "        if loc in spines:\n",
    "            spine.set_position(('outward', 10))  # outward by 10 points\n",
    "            spine.set_smart_bounds(True)\n",
    "        else:\n",
    "            spine.set_color('none')  # don't draw spine\n",
    "\n",
    "    # turn off ticks where there is no spine\n",
    "    if 'left' in spines:\n",
    "        ax.yaxis.set_ticks_position('left')\n",
    "    else:\n",
    "        # no yaxis ticks\n",
    "        ax.yaxis.set_ticks([])\n",
    "\n",
    "    if 'bottom' in spines:\n",
    "        ax.xaxis.set_ticks_position('bottom')\n",
    "    else:\n",
    "        # no xaxis ticks\n",
    "        ax.xaxis.set_ticks([])\n",
    "\n",
    "%matplotlib inline \n",
    "name = ['Flour.', 'Rain Drop.', 'Capillary.' 'Avocado Seed.', 'Period.', 'Fog.', 'Air.', 'Spider Web.', 'Smoke' ]\n",
    "size_um = np.array([2000,5, 76200, 615, 10, .0005, 3, .01, ])**3\n",
    "year_in_seconds = 3.154e+7\n",
    "time_left = [year*80, year*10, year, year/12, year/(12*4), (year/(12*4),  ]\n",
    "cupped_hands = 1.25e+14\n",
    "sand_ar = [[62.5, 4959645]\n",
    ",[125, 619956]\n",
    ",[250, 77494]\n",
    ",[500, 9687]\n",
    ",[1000, 1211]\n",
    ",[2000, 151]]\n",
    "\n",
    "\n",
    "inds =['Very fine sand.','Fine sand. ','Medium sand.','Coarse sand.','Very coarse sand.','Gravel.']\n",
    "sand = pd.DataFrame(np.array(sand_ar).T, ['um', '#cm3'], columns=inds).T\n",
    "x = sand['um'].values\n",
    "y = sand['#cm3'].values\n",
    "\n",
    "ax = plt.subplot(111)    \n",
    "ax.spines[\"top\"].set_visible(False)    \n",
    "ax.spines[\"bottom\"].set_visible(False)    \n",
    "ax.spines[\"right\"].set_visible(False)    \n",
    "ax.spines[\"left\"].set_visible(False) \n",
    "adjust_spines(ax, ['left', 'bottom'])\n",
    "\n",
    "\n",
    "plt.scatter(x, y, color='k', s=0)\n",
    "plt.xticks(x, size=5)\n",
    "for x_i, y_i, text_i in zip(x,y,inds):\n",
    "    plt.text(x_i,y_i,text_i,ha='right', va='baseline' )\n",
    "\n",
    "plt.xlabel('$ Diameter  \\ (\\mu m)  $')\n",
    "plt.ylabel('$  \\log_{10} \\ Grains \\ of \\ Sand \\ (cm^{-3})  $')\n",
    "plt.xlim(0, max(sand['um'].values)+300);\n",
    "plt.gca().set_yscale('log');plt.xlim(-500, np.max(x)+200)\n",
    "plt.show()"
   ]
  }
 ],
 "metadata": {
  "kernelspec": {
   "display_name": "Python 3",
   "language": "python",
   "name": "python3"
  },
  "language_info": {
   "codemirror_mode": {
    "name": "ipython",
    "version": 3
   },
   "file_extension": ".py",
   "mimetype": "text/x-python",
   "name": "python",
   "nbconvert_exporter": "python",
   "pygments_lexer": "ipython3",
   "version": "3.5.1"
  }
 },
 "nbformat": 4,
 "nbformat_minor": 0
}
