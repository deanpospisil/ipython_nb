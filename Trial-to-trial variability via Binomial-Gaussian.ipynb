{
 "cells": [
  {
   "cell_type": "markdown",
   "metadata": {},
   "source": [
    "## Finding a model of neural variability which explains a variance to mean ratio greater than 1##\n",
    "Across visual cortex cells have different levels of trial-to-trial variability as indexed by their variance to mean ratio (VMR). If cells were truly Poisson distributed than their mean would be equal to their variance. Yet in experiments we find VMR will often be much greater or less than 1. How can we explain this high variability in terms of a neural model?"
   ]
  },
  {
   "cell_type": "markdown",
   "metadata": {},
   "source": [
    "### Executive summary ###\n",
    "Neurons in cortex often have a largely linear relationship between their variance and their mean as high as 2 as low as $\\frac{1}{2}$. \n",
    "\n",
    "\n",
    "**A)** This variability cannot be explained by a neuron modeled as summing inputs from a previous stage (variability gets averaged out) if inputs are correlated it increases the variance but not enough (mean to variance ratio strictly less than one). \n",
    "\n",
    "\n",
    "**B)** Nor can it be explained by multiplicative gain (Goris et al.) because it predicts a largely quadratic relationships. \n",
    "\n",
    "\n",
    "I combine two ideas to explain the high linear variance/mean relationship:\n",
    "\n",
    "**C)** If we model spikes as the result of noisey intracellular current which occasionally cross threshold within time bins the length of the refractory period then the count of spikes becomes a Binomial random variable which exhibits mean to variance ratio close to one. \n",
    "\n",
    "**D)** If we assume inputs are correlated than the variance to mean ratios is between 0 and 2 depending on the magnitude and sign of the correlation.\n",
    "\n",
    "**E)** If we assume correlation between neurons is a positively correlated to distance between neurons and the similarity of their tuning then these two ideas make predictions about the variability of neurons."
   ]
  },
  {
   "cell_type": "markdown",
   "metadata": {},
   "source": [
    "## A) Correlation between inputs increases trial-to-trial variability but not enough ##\n",
    "\n",
    "Differences in correlation of the inputs to a neuron could be on explanation for why VMR varies from cell to cell. Lets consider a model where the inputs to a neuron are correlated. The sum of their inputs will be more variable because of that correlation but by how much?\n",
    "\n",
    "First we consider the population of input neurons modeled as Poisson random variables:\n",
    "\n",
    "$$P_i(\\lambda, \\Sigma)$$\n",
    "where\n",
    "$$\\Sigma = \\begin{bmatrix}\n",
    "    \\lambda & \\rho \\lambda & \\rho \\lambda & \\dots  & \\rho \\lambda \\\\\n",
    "    \\rho \\lambda  & \\lambda & \\rho \\lambda & \\dots  & \\rho \\lambda \\\\\n",
    "    \\vdots & \\vdots & \\vdots & \\ddots & \\vdots \\\\\n",
    "    \\rho \\lambda & \\rho \\lambda & \\rho \\lambda & \\dots  & \\lambda\n",
    "\\end{bmatrix} $$\n",
    "\n",
    "Here we have the same drive ($\\lambda$) and correlation ($\\rho$) between all neurons. Now if all these neurons are innervating the neuron we are recording from $(Y)$ then we assume their inputs sum and are scaled by the number of neurons $n$.\n",
    "$$Y = \\frac{1}{n}\\sum_i^n{P_i(\\lambda)}$$ \n",
    "\n",
    "Whats the mean and variance then of our output neuron?\n",
    "\n",
    "$$E[Y] = \\lambda$$\n",
    "$$Var(Y) = \\frac{1}{n}^2 [n \\lambda + (n^2 - n)\\rho \\lambda] = \\frac{\\lambda}{n} + \\rho \\lambda - \\frac{\\rho \\lambda}{n} $$\n",
    "\n",
    "with $n$ large \n",
    "\n",
    "$$Var(Y) \\approx \\rho \\lambda$$\n",
    "\n",
    "and the variance to mean ratio becomes $\\frac{\\rho \\lambda}{\\lambda}= \\rho$\n",
    "\n",
    "This is a  problem because $\\rho \\in [0,1]$ so this model would predict the neurons VMR is strictly less then one whereas many neurons have a VMR much higher than 1. Typical correlation values between adjacent neurons are between 0.1 and 0.3 (Kohn). And if the nervous system is doing averaging at each stage there should be almost no variability.\n",
    "\n",
    "So where does the extra variability come from? "
   ]
  },
  {
   "cell_type": "markdown",
   "metadata": {},
   "source": [
    "##B)  Multiplicative gain increases trial-to-trial variability, but as a quadratic function of the mean, not linearly ##\n",
    "One possible place the extra variability could come from per Goris et al. is multplicative scaling of neurons on slow time scales i.e. maybe the monkey was paying attention sometimes but not others and this can be modeled as multiplicative amplification of the firing rate. They propose a hierarchical model for which I will plug in our neuron:\n",
    "\n",
    "$$Y_g = GY \\ where \\ Y \\sim N(\\lambda, \\lambda \\rho) \\ and  \\ G \\sim Gamma(\\alpha, \\beta)$$\n",
    "\n",
    "$$E[Gamma(\\alpha, \\beta)]  =  \\alpha\\beta$$\n",
    "$$Var[Gamma(\\alpha, \\beta)]  =  \\alpha\\beta^2$$\n",
    "\n",
    "We set gammas mean to be 1 so on average there is no modulation: \n",
    "$\\alpha\\beta = 1$ so $\\alpha=\\frac{1}{\\beta}$\n",
    "and variance is:\n",
    "$\\beta$\n",
    "\n",
    "Now what's the expected value and variance of our neuron with the gain applied? We will use the iterated expectation and variance formula:\n",
    "$$E[Y] = E[E[Y|X]]$$\n",
    "$$Var(Y) = Var(E[Y|X]) + E[Var(Y|X)]$$\n",
    "applying these to our gain model:\n",
    "$$E[Y_g] = E[E[Y_g|G]] = E[G\\lambda] = \\lambda$$\n",
    "$$Var(Y_g) = Var(E[GY|G]) + E[Var(GY|G)] = Var(G E[Y|G]) + E[G^2 Var(Y|G)] = Var(G\\lambda) + E[G^2 \\lambda\\rho] = \\lambda^2 Var(G) + \\lambda \\rho E[G^2]$$\n",
    "\n",
    "\n",
    "$$Var(Y_g) = \\lambda^2 \\beta + \\lambda \\rho(\\beta+1)$$\n",
    "Because: $$E[G^2] = Var(G) + E[G]^2 = \\beta + 1$$\n",
    "\n",
    "thus there is the sum of a quadratic and linear relationship predicted between variance and the mean.  One thing to notice about the model is they already assume a Poisson spike neuron to start so do not explain how Poisson like variability is achieved in the first place. Also the $\\lambda^2$ term was simply the result of the multiplicative gain, not anything special about the Gamma distribution."
   ]
  },
  {
   "cell_type": "markdown",
   "metadata": {},
   "source": [
    "Notice that the linear component is largely less than the quadratic component since if $\\beta \\lambda >(\\beta +1)\\rho$ the quadratic component contributes more. Yet it is very common to find neurons which are super-poisson but do not have a significant quadratic component in their VMR. So why do we get super-poisson neurons with a linear mean to variance relationship? One possible explanation is that the rectification of noisy membrane current amplifies variability."
   ]
  },
  {
   "cell_type": "markdown",
   "metadata": {},
   "source": [
    "## C) Rectifcation of rapidly varying membrane current produces Poisson like spiking (more like Binomial)##\n",
    "\n",
    "Consider a neuron with many inputs whose membrane current is essentially Gaussian noise the result of the push and pull of many excitatory and inhbitory inputs. The mean of this guassian sits well beneath threshold but occasionally it crosses and an action potential is generated. Lets stimulate this idea below."
   ]
  },
  {
   "cell_type": "code",
   "execution_count": 6,
   "metadata": {
    "collapsed": false
   },
   "outputs": [
    {
     "name": "stdout",
     "output_type": "stream",
     "text": [
      "p=0.05\n"
     ]
    },
    {
     "data": {
      "text/plain": [
       "<matplotlib.text.Text at 0x7ff419cdc290>"
      ]
     },
     "execution_count": 6,
     "metadata": {},
     "output_type": "execute_result"
    },
    {
     "data": {
      "image/png": "[encoded data removed]",
      "text/plain": [
       "<matplotlib.figure.Figure at 0x7ff4291c7690>"
      ]
     },
     "metadata": {},
     "output_type": "display_data"
    }
   ],
   "source": [
    "import numpy as np\n",
    "import matplotlib.pyplot as plt\n",
    "import scipy.stats as stats\n",
    "%matplotlib inline\n",
    "fs = 1000#sampling rate in seconds\n",
    "dur = 1 #duration of recording\n",
    "t = np.linspace(0, dur, dur*fs)\n",
    "nbins = fs*dur #number of bins (number of refractory periods fit into the duration of the recording)\n",
    "fr = 50. #desired firing rate\n",
    "sd_cur = 15 # arbitrary variability of membrane current\n",
    "p = fr/nbins #p is the chance in each bin of getting a spike\n",
    "thresh = -40 # spiking threshold\n",
    "#look up on the normal for what threshold will get that p\n",
    "x = stats.norm.ppf(1-p, loc=0, scale=sd_cur)\n",
    "#move the mean of the gaussian so that it is at that threshold\n",
    "drive = thresh - x\n",
    "print('p='+str(p))\n",
    "\n",
    "#now generate the membrane current\n",
    "c = np.random.randn(dur*fs)*sd_cur + drive\n",
    "spike = c>-40\n",
    "\n",
    "plt.plot(t, c)\n",
    "plt.xlabel('ms')\n",
    "plt.ylabel('current (mv)')\n",
    "plt.plot([0, dur],[-40,-40])\n",
    "plt.plot(t, (spike)*80 - 40)\n",
    "plt.legend(['Membrane Current', 'Threshold', 'Spike' ])\n",
    "plt.title('N spikes = ' + str(sum(spike)))"
   ]
  },
  {
   "cell_type": "markdown",
   "metadata": {},
   "source": [
    "The key insight is that when we bin the membrane current up into refractory periods and the spike count is the sum of whether threshold was crossed or not across bins we get a binomial distribution $B(n,p)$ where n is the number of refractory periods we are counting over, so in 1 second if refractory period is 1 ms we get n = 1000 bins, and p is just the probability that the normal distribution of the membrane current exceeds the threshold: $p = 1 - F_C(-40) = \\int_{-40}^{\\infty} f_C(c) \\ dc$\n",
    "\n",
    "And the VMR becomes $\\frac{np(1-p)}{np} = 1-p$ which approaches 1 as $p$ becomes small and $p$ here is small. Typical firing rates are between 1 and 100 spks/s which correspond to, for a refractory period of 1 ms, respectively p of .01 and .1 respectively a VMR of .99 and .90.\n",
    "So we've got at least our VMR slope of 1 back! Now what about super-poisson linear VMR?"
   ]
  },
  {
   "cell_type": "markdown",
   "metadata": {},
   "source": [
    "Note: increases in firing rate could just as easily be a result of an increase of variance in the current gaussian or the mean. Below I will focus on changes in the mean because this is what Carandini 2007 reported changed the most for different firing rates in V1 and intuitively I am assuming changes in firing rate are the result of overall more excitatory input drive as opposed to increased balanced inhibitory and excitatory drive. It could be interesting to explore what advantages signaling overall drive as it would seem to be able to perform a squaring operation."
   ]
  },
  {
   "cell_type": "markdown",
   "metadata": {},
   "source": [
    "## D) Correlated inputs and rectifcation give a more flexible linear VMR.##\n",
    "\n",
    "Well lets relate this to our correlated inputs model. Lets suppose that the mean of the membrane current is a linear function of the average excitatory drive. But if the inputs are correlated this average excitatory drive will vary more from trial-to-trial. \n",
    "\n",
    "We will model the sum of inputs as a Gaussian with the mean and variance we worked out for our sum of poissons above, we can do this because of the CLT. We will scale the RV by some constant $s$ which squeezes things down so that we don't vary too far from threshold: $D = sY \\sim N(s\\lambda, s^2\\rho \\lambda)$. \n",
    "\n",
    "So our hierarchical model is:\n",
    "$$Y \\sim B(n, p) \\  where \\ p = 1-F_C(-40-D) $$\n",
    "\n",
    "Thus our d is transformed by a smooth sigmoid function. Which is on a pretty local region of the sigmoid thus can be approximated well by linear transformation which we can lump into our $s$ term. So approximately:\n",
    "\n",
    "$$Y \\sim  B(n=1000, p=D) \\ where \\ D \\sim N(s\\lambda, s^2\\rho \\lambda)$$"
   ]
  },
  {
   "cell_type": "markdown",
   "metadata": {},
   "source": [
    "A reasonable value of s could be $\\frac{1}{1000}$ so that assuming $\\lambda \\in [1,100]$ then$p= D$ will roughly range between $\\frac{1}{1000}$ and $\\frac{1}{10}$ corresponding respectively to a firing rate between 1 and 100 spks/s. An obvious issue here is that $D \\in (-\\infty, +\\infty)$ but for a binomial to be defined as distribution $p \\in [0,1]$. So keep in mind this normal distribution should be truncated, but it won't be by much because the SD is quite tight. So when we calculated iterated variance later it is fine to assume it is the variance of a normal (?). So lets calculate the mean and variance:"
   ]
  },
  {
   "cell_type": "markdown",
   "metadata": {},
   "source": [
    "$$E[Y] = E[E[Y|X]]$$\n",
    "$$E[Y] = E[E[Y|D]] = E[nD] = ns \\lambda = \\lambda$$\n",
    "\n",
    "$$Var(Y) = Var(E[Y|D]) + E[Var(Y|D)]$$\n",
    "$$Var(Y) = Var(nD) + E[nD(1-D)] = n^2 s^2 \\rho \\lambda  + n s \\lambda-nE[D^2] $$\n",
    "$$= \\rho \\lambda  + \\lambda-nE[D^2] $$\n",
    "$$ \\rho \\lambda  + \\lambda - ns^2\\rho\\lambda - ns^2\\lambda^2$$\n",
    "\n",
    "$$ \\rho \\lambda  + \\lambda - s\\rho\\lambda - s\\lambda^2$$\n",
    "\n",
    "where the last two terms are largely neglible so\n",
    "\n",
    "$$Var(Y) \\approx \\lambda + \\rho \\lambda$$\n",
    "$$E[Y]  = \\lambda$$\n",
    "\n",
    "\n",
    "\n"
   ]
  },
  {
   "cell_type": "markdown",
   "metadata": {},
   "source": [
    "Thus we have a simple model where the $VMR \\in [1,2]$. Realistically though correlations between adjacent neurons have been recorded as having $\\rho \\in [0, \\frac{1}{3}]$ thus would predict $VMR \\in [1, 1.3]$  and if a neuron is integrating across a retinotopic surface many neurons will not be directly adajcent and will have lower noise correlations. Yet still there often neurons with a linear VMR greater than 2. One possible explanation is that these neurons subunits themselves are integrating over more correlated inputs. The $\\rho$'s at each stage accumulating.\n",
    "\n",
    "Also variability could be higher with smaller pools of neurons (b/c we ignored some variability by saying $n$ was large), conversely variability could be lower if firing rate is very high (i.e. we ignored the negative terms in the variance just now because we assumed s was small but with very high firing rates it would become less negligible). Furthermore with negatively correlated neurons the variability could be driven down substantially. "
   ]
  },
  {
   "cell_type": "markdown",
   "metadata": {},
   "source": [
    "## E) Predictions: Increased selectivity decreased variability, increased invariance increased variability ##\n",
    "\n",
    "What we determined above is that differences in variability between neurons in this model are essentially a function of the correlation between inputs:\n",
    "\n",
    "$$Var(Y) \\approx \\lambda + \\rho \\lambda$$\n",
    "$$E[Y]  = \\lambda$$\n",
    "\n",
    "$$\\frac{Var(Y)}{E[Y]} = 1 + \\rho$$\n",
    "\n",
    "\n",
    "The greater the correlation the greater the variability, with negative correlation the variability even becomes subpoisson. We know in visual cortex that nearby neurons will tend to be positively correlated and even more so if they have similar tuning. If two neurons are positively correlated but one has an inhibitory synapse on the downstream neuron being recorded from and the other excitatory then those upstream neurons are in effect negatively correlated and they drive down the variability in the downstream neuron. Assuming our downstream neuron has a low baseline, inhbitory neurons will always increase selectivity because there will now be fewer stimuli which drive the cell. But this effect is contingent on both of these neurons being driven.\n",
    "\n",
    "Conceptual example: Surround suppression in V1. There are neurons in V1 which are excited by a grating in the center of their receptive field but if the surround of the receptive field has the same oriented grating it will suppress the output. Assuming a model where there are a field of similarly orientation tuned subunits this unit is integrating over, there is then a higher degree of positive correlation over this field but because the surround is inhibitory this results in anti-correlation at the down stream neuron being recorded from, thus one would predict when the surround is inhibiting the center there is less variability but when only the center is involved the variability will be higher. But in general this inhibition in the surround is making the cell more selective. If we consider cross orientation inhbition one has spatially overlapped neurons but with uncorrelated tuning thus would not expect as strong of decrease of variability when inhbiting the response with super imposed cross oriented grating. \n",
    "\n",
    "Conversely if two neurons are positively correlated but both make excitatroy contacts on a downstream neuron then this will increase variability. Since similar stimuli will now drive the cell it will be more invariant.\n",
    "\n",
    "Conceptual example: Texture in V4. If a V4 cell is selective for texture we can imagine a model that would be the neuron integrating over many simimilarly tuned subunits across space. Then all these being added up would have very high variability. The spatial scale of the texture would be proportional to the size of the subunits RFs and their overlap. The variabilty could be even higher if those subunits were in turn integrating over similarly tuned neurons, which would be the case if the texture that neuorn was tuned for had a high spatial period. In general repeated selectivity across space would be assosciated with increased translation invariance."
   ]
  },
  {
   "cell_type": "code",
   "execution_count": null,
   "metadata": {
    "collapsed": true
   },
   "outputs": [],
   "source": []
  }
 ],
 "metadata": {
  "kernelspec": {
   "display_name": "Python 2",
   "language": "python",
   "name": "python2"
  },
  "language_info": {
   "codemirror_mode": {
    "name": "ipython",
    "version": 2
   },
   "file_extension": ".py",
   "mimetype": "text/x-python",
   "name": "python",
   "nbconvert_exporter": "python",
   "pygments_lexer": "ipython2",
   "version": "2.7.13"
  }
 },
 "nbformat": 4,
 "nbformat_minor": 2
}
