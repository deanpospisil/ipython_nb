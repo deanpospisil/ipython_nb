{
 "cells": [
  {
   "cell_type": "markdown",
   "metadata": {},
   "source": [
    "## Spatial receptive fields in the ventral stream##\n",
    "\n",
    "I want to get a clear image in my mind of the spatial sampling of an image at each stage of the ventral stream, this comes down to the shape of receptive fields and the number of receptive fields, as a function of eccentricity and angle in the visual field. "
   ]
  },
  {
   "cell_type": "markdown",
   "metadata": {},
   "source": [
    "### Visual Space###\n",
    "\n",
    "Degrees visual angle is defined for a given extent of visual space as the angle that extent makes with respect to the focal point on the lens of the eye. \n",
    "\n",
    "$$V = 2\\arctan(\\frac{S}{2D})$$\n",
    "\n",
    "where S is the extent of the stimulus, D is the distance to the stimulus (in the same units as S), and V is the degree visual angle of that stimulus. Given V we can learn the extent of that stimulus on the retina:\n",
    "\n",
    "$$R = \\nu \\tan(V)$$\n",
    "\n",
    "where $\\nu \\approx 17 mm$\n",
    "\n",
    "and the total degrees visual angle is roughly $160$"
   ]
  },
  {
   "cell_type": "markdown",
   "metadata": {},
   "source": [
    "### Cones###"
   ]
  },
  {
   "cell_type": "markdown",
   "metadata": {},
   "source": [
    "A major prior on the visual system is the spatial sampling in the retina. Higher visual frequencies are more discriminable in the fovea then in the periphery. But by how much?\n",
    "\n",
    "Here we will use data from : The Distribution of Cones in the Primate Retina. 1990. Digitized from Figure 2. https://www.ncbi.nlm.nih.gov/books/NBK235556/figure/mmm00055/?report=objectonly\n",
    "\n",
    "Looking at the temporal horizontal meridian. I believe this is between the fovea and the ear."
   ]
  },
  {
   "cell_type": "code",
   "execution_count": 2,
   "metadata": {
    "collapsed": false
   },
   "outputs": [
    {
     "ename": "TypeError",
     "evalue": "a float is required",
     "output_type": "error",
     "traceback": [
      "\u001b[0;31m---------------------------------------------------------------------------\u001b[0m",
      "\u001b[0;31mTypeError\u001b[0m                                 Traceback (most recent call last)",
      "\u001b[0;32m<ipython-input-2-5203745734d1>\u001b[0m in \u001b[0;36m<module>\u001b[0;34m()\u001b[0m\n\u001b[1;32m     18\u001b[0m \u001b[0;34m\u001b[0m\u001b[0m\n\u001b[1;32m     19\u001b[0m \u001b[0mA\u001b[0m \u001b[0;34m=\u001b[0m \u001b[0mnp\u001b[0m\u001b[0;34m.\u001b[0m\u001b[0mvstack\u001b[0m\u001b[0;34m(\u001b[0m\u001b[0;34m[\u001b[0m\u001b[0mlcx\u001b[0m\u001b[0;34m,\u001b[0m \u001b[0mnp\u001b[0m\u001b[0;34m.\u001b[0m\u001b[0mones\u001b[0m\u001b[0;34m(\u001b[0m\u001b[0mlen\u001b[0m\u001b[0;34m(\u001b[0m\u001b[0mlcx\u001b[0m\u001b[0;34m)\u001b[0m\u001b[0;34m)\u001b[0m\u001b[0;34m]\u001b[0m\u001b[0;34m)\u001b[0m\u001b[0;34m.\u001b[0m\u001b[0mT\u001b[0m\u001b[0;34m;\u001b[0m\u001b[0;34m\u001b[0m\u001b[0m\n\u001b[0;32m---> 20\u001b[0;31m \u001b[0mm\u001b[0m\u001b[0;34m,\u001b[0m \u001b[0mc\u001b[0m \u001b[0;34m=\u001b[0m \u001b[0mnp\u001b[0m\u001b[0;34m.\u001b[0m\u001b[0mlinalg\u001b[0m\u001b[0;34m.\u001b[0m\u001b[0mlstsq\u001b[0m\u001b[0;34m(\u001b[0m\u001b[0mA\u001b[0m \u001b[0;34m,\u001b[0m \u001b[0mlcy\u001b[0m\u001b[0;34m,\u001b[0m \u001b[0mrcond\u001b[0m\u001b[0;34m=\u001b[0m\u001b[0mNone\u001b[0m\u001b[0;34m)\u001b[0m\u001b[0;34m[\u001b[0m\u001b[0;36m0\u001b[0m\u001b[0;34m]\u001b[0m\u001b[0;34m;\u001b[0m\u001b[0;34m\u001b[0m\u001b[0m\n\u001b[0m\u001b[1;32m     21\u001b[0m \u001b[0mplt\u001b[0m\u001b[0;34m.\u001b[0m\u001b[0mloglog\u001b[0m\u001b[0;34m(\u001b[0m\u001b[0mx\u001b[0m\u001b[0;34m,\u001b[0m \u001b[0;34m(\u001b[0m\u001b[0;36m10\u001b[0m\u001b[0;34m**\u001b[0m\u001b[0mc\u001b[0m\u001b[0;34m)\u001b[0m\u001b[0;34m*\u001b[0m\u001b[0;34m(\u001b[0m\u001b[0mx\u001b[0m\u001b[0;34m**\u001b[0m\u001b[0mm\u001b[0m\u001b[0;34m)\u001b[0m\u001b[0;34m,\u001b[0m \u001b[0mcolor\u001b[0m\u001b[0;34m=\u001b[0m\u001b[0;34m'b'\u001b[0m\u001b[0;34m)\u001b[0m\u001b[0;34m;\u001b[0m\u001b[0;34m\u001b[0m\u001b[0m\n\u001b[1;32m     22\u001b[0m \u001b[0mplt\u001b[0m\u001b[0;34m.\u001b[0m\u001b[0mscatter\u001b[0m\u001b[0;34m(\u001b[0m\u001b[0mcones\u001b[0m\u001b[0;34m[\u001b[0m\u001b[0;34m:\u001b[0m\u001b[0;34m,\u001b[0m\u001b[0;36m0\u001b[0m\u001b[0;34m]\u001b[0m\u001b[0;34m,\u001b[0m \u001b[0mcones\u001b[0m\u001b[0;34m[\u001b[0m\u001b[0;34m:\u001b[0m\u001b[0;34m,\u001b[0m\u001b[0;36m1\u001b[0m\u001b[0;34m]\u001b[0m\u001b[0;34m)\u001b[0m\u001b[0;34m;\u001b[0m\u001b[0;34m\u001b[0m\u001b[0m\n",
      "\u001b[0;32m/home/dean/anaconda2/lib/python2.7/site-packages/numpy/linalg/linalg.pyc\u001b[0m in \u001b[0;36mlstsq\u001b[0;34m(a, b, rcond)\u001b[0m\n\u001b[1;32m   1951\u001b[0m         \u001b[0mwork\u001b[0m \u001b[0;34m=\u001b[0m \u001b[0mzeros\u001b[0m\u001b[0;34m(\u001b[0m\u001b[0;34m(\u001b[0m\u001b[0mlwork\u001b[0m\u001b[0;34m,\u001b[0m\u001b[0;34m)\u001b[0m\u001b[0;34m,\u001b[0m \u001b[0mt\u001b[0m\u001b[0;34m)\u001b[0m\u001b[0;34m\u001b[0m\u001b[0m\n\u001b[1;32m   1952\u001b[0m         results = lapack_routine(m, n, n_rhs, a, m, bstar, ldb, s, rcond,\n\u001b[0;32m-> 1953\u001b[0;31m                                  0, work, -1, iwork, 0)\n\u001b[0m\u001b[1;32m   1954\u001b[0m         \u001b[0mlwork\u001b[0m \u001b[0;34m=\u001b[0m \u001b[0mint\u001b[0m\u001b[0;34m(\u001b[0m\u001b[0mwork\u001b[0m\u001b[0;34m[\u001b[0m\u001b[0;36m0\u001b[0m\u001b[0;34m]\u001b[0m\u001b[0;34m)\u001b[0m\u001b[0;34m\u001b[0m\u001b[0m\n\u001b[1;32m   1955\u001b[0m         \u001b[0mwork\u001b[0m \u001b[0;34m=\u001b[0m \u001b[0mzeros\u001b[0m\u001b[0;34m(\u001b[0m\u001b[0;34m(\u001b[0m\u001b[0mlwork\u001b[0m\u001b[0;34m,\u001b[0m\u001b[0;34m)\u001b[0m\u001b[0;34m,\u001b[0m \u001b[0mt\u001b[0m\u001b[0;34m)\u001b[0m\u001b[0;34m\u001b[0m\u001b[0m\n",
      "\u001b[0;31mTypeError\u001b[0m: a float is required"
     ]
    },
    {
     "data": {
      "image/png": "[encoded data removed]",
      "text/plain": [
       "<matplotlib.figure.Figure at 0x7f4fec11a750>"
      ]
     },
     "metadata": {},
     "output_type": "display_data"
    }
   ],
   "source": [
    "import numpy as np\n",
    "import matplotlib.pyplot as plt\n",
    "from scipy import stats\n",
    "%matplotlib inline\n",
    "import csv\n",
    "with open(\"cones_mm2_dg.csv\") as f:\n",
    "    reader = csv.reader(f)\n",
    "    next(reader) # skip header\n",
    "    data = np.array([[np.double(r[0]), np.double(r[1])] for r in reader])\n",
    "cones = data\n",
    "\n",
    "lcx = (np.log10(cones[:,0]));\n",
    "lcy = (np.log10(cones[:,1]))[:, np.newaxis];\n",
    "x = np.linspace(0.1, 60, 100)\n",
    "\n",
    "plt.subplot(211)\n",
    "plt.title('cones')\n",
    "\n",
    "A = np.vstack([lcx, np.ones(len(lcx))]).T;\n",
    "m, c = np.linalg.lstsq(A , lcy, rcond=None)[0];\n",
    "plt.loglog(x, (10**c)*(x**m), color='b');\n",
    "plt.scatter(cones[:,0], cones[:,1]);\n",
    "\n",
    "print('Exponent= ' + str(np.round(m,2)))\n",
    "print('Multiplier= ' + str(np.round(c,2)))\n",
    "plt.xlabel('vis deg.');plt.ylabel('cone/mm^2');\n",
    "plt.legend(['Exp Fit', 'Data']);"
   ]
  },
  {
   "cell_type": "code",
   "execution_count": null,
   "metadata": {
    "collapsed": false
   },
   "outputs": [],
   "source": [
    "plt.plot(cones[:,0], 10**(m*lcx + c), color='r')\n",
    "\n",
    "x = np.linspace(0.1, 60, 100)\n",
    "plt.plot(x, (10**c)*(x**m), color='b')\n",
    "\n",
    "plt.scatter(cones[:,0], cones[:,1])\n",
    "plt.xlabel('vis deg.');plt.ylabel('cone/mm^2');\n",
    "plt.legend(['Exp fit', 'Data'])"
   ]
  },
  {
   "cell_type": "code",
   "execution_count": 18,
   "metadata": {
    "collapsed": false
   },
   "outputs": [
    {
     "data": {
      "text/plain": [
       "<matplotlib.legend.Legend at 0x10ef5c320>"
      ]
     },
     "execution_count": 18,
     "metadata": {},
     "output_type": "execute_result"
    },
    {
     "data": {
      "image/png": "[encoded data removed]",
      "text/plain": [
       "<matplotlib.figure.Figure at 0x10e433518>"
      ]
     },
     "metadata": {},
     "output_type": "display_data"
    }
   ],
   "source": [
    "plt.plot(cones[:,0], np.sqrt(10**(m*lcx + c)), color='r')\n",
    "plt.scatter(cones[:,0], np.sqrt(cones[:,1]))\n",
    "plt.xlabel('vis deg.');plt.ylabel('cone/mm');\n",
    "plt.legend(['Exp fit', 'Data'])"
   ]
  },
  {
   "cell_type": "markdown",
   "metadata": {},
   "source": [
    "So we now have an approximate formula for number of cones/mm^2 as a function of eccentricity. Can we get this to be a function of visual angle? \n",
    "\n",
    "Well if we take the square root of cones/mm^2 we get how many cones on the side of a unit square containing all those cones. \n",
    "\n",
    "Which is essentially if we draw a line from the fovea radiating outward on a given section of the line a mm long how many cones do we expect.  "
   ]
  },
  {
   "cell_type": "markdown",
   "metadata": {},
   "source": [
    "Now to convert from mm on the retina to degrees visual angle we ask how many mm/v. deg are there?\n",
    "Since \n",
    "$$R = \\nu \\tan(V)$$\n",
    "then for 1 mm there are:\n",
    "$$V = \\arctan(1/\\nu)$$"
   ]
  },
  {
   "cell_type": "code",
   "execution_count": 52,
   "metadata": {
    "collapsed": false
   },
   "outputs": [
    {
     "data": {
      "image/png": "[encoded data removed]",
      "text/plain": [
       "<matplotlib.figure.Figure at 0x10f234588>"
      ]
     },
     "metadata": {},
     "output_type": "display_data"
    }
   ],
   "source": [
    "nu=17\n",
    "x = np.linspace(0.01, 60, 100)\n",
    "old_y = (10**c)*(x**m)\n",
    "new_y = np.sqrt(old_y);\n",
    "degpmm = np.rad2deg(np.arctan(1/nu))\n",
    "new_y = new_y/degpmm;\n",
    "\n",
    "plt.plot(x, new_y, color='r');\n",
    "plt.ylabel('Cones/deg');\n",
    "plt.xlabel('Eccentricity deg.');"
   ]
  },
  {
   "cell_type": "markdown",
   "metadata": {},
   "source": [
    "For scale 1 degree is about the size of the nail of your index finger with your arm outstretched. So on your fingernail are a 100X100 grid of cones with a nyquist frequency of 1/50 cycles/deg vis angle."
   ]
  },
  {
   "cell_type": "markdown",
   "metadata": {},
   "source": [
    "In V4 experiments typically the stimuli is scaled to the receptive field, where receptive fields are in turn a function of eccentricity, stimuli being place from 0 to 6 deg from RF center.\n",
    "\n",
    "$$RF_{V4} =1^\\circ + 0.625 * Ecc.$$\n",
    "\n",
    "So at 6 deg the RF is ~5 degrees visual angle and the shape is made 3/4 of that size 3.75 degrees. Which means a sampling of 112 cones on each side. Close to what we would expect for looking at a 1 deg item at the center of vision."
   ]
  },
  {
   "cell_type": "code",
   "execution_count": 54,
   "metadata": {
    "collapsed": false
   },
   "outputs": [
    {
     "data": {
      "image/png": "[encoded data removed]",
      "text/plain": [
       "<matplotlib.figure.Figure at 0x1110fdf60>"
      ]
     },
     "metadata": {},
     "output_type": "display_data"
    }
   ],
   "source": [
    "plt.plot(x, new_y**-1, color='r');\n",
    "plt.ylabel('Deg/Cone');\n",
    "plt.xlabel('Eccentricity deg.');"
   ]
  },
  {
   "cell_type": "markdown",
   "metadata": {},
   "source": [
    "Here we just flip the ratio to Deg/Cones to tell us the spacing between cones in degrees. This will be helpful when discretizing the cones.\n",
    "\n",
    "### Discretized cone sampling###\n",
    "\n",
    "So given an arbitrary image and window in visual space we want to place 'cones' samples across it such that it matches the density and transition in density we would expect for our estimates of cone density above. We will proceed with this as follows. First we will consider rings of equal eccentricity around the fovea where we have an estimate for a given length of visual degrees how many photoreceptors to expect. To determine the distance between these rings we will place one at the edge of our stimuli closest to the fovea and the distance to the next ring will be the deg/cone at the current rings eccentricity.\n",
    "\n",
    "We will also need to resample the input image at arbitrary points so we can grab samples wherever the cones end up."
   ]
  },
  {
   "cell_type": "code",
   "execution_count": 91,
   "metadata": {
    "collapsed": false
   },
   "outputs": [
    {
     "data": {
      "image/png": "[encoded data removed]",
      "text/plain": [
       "<matplotlib.figure.Figure at 0x112aab128>"
      ]
     },
     "metadata": {},
     "output_type": "display_data"
    }
   ],
   "source": [
    "#so we will start with a circular portion of visual space in visual degrees. \n",
    "#we want a function which takes the radius and its center in visual degrees. \n",
    "#then it gives the location of a set of cone locations in visual degrees. \n",
    "\n",
    "#to do this we will need a function which takes a starting and ending eccentricity.\n",
    "#then gives the set of eccentricities in between. these are for the rings.\n",
    "def cone_per_deg(ecc, e=-.61, m=4.75, nu=17):\n",
    "    y = (np.sqrt((10**m)*(ecc**e)))\n",
    "    y = y/np.rad2deg(np.arctan(1/nu));\n",
    "    return y\n",
    "\n",
    "def ring_ecc_spacing(ecc_start, ecc_end,):\n",
    "    ecc_cur = ecc_start\n",
    "    ecc_list = []\n",
    "    while ecc_cur < ecc_end:\n",
    "        ecc_list.append(ecc_cur)\n",
    "        ecc_cur = ecc_cur + cone_per_deg(ecc_cur)**-1#get degree per cone for distance to next ring\n",
    "    return np.array(ecc_list)\n",
    "\n",
    "ecc_list = ring_ecc_spacing(0.1, 60)\n",
    "\n",
    "plt.plot(ecc_list[1:], np.diff(ecc_list));\n",
    "plt.xlabel('eccentricities');\n",
    "plt.ylabel('difference between rings');"
   ]
  },
  {
   "cell_type": "code",
   "execution_count": 1,
   "metadata": {
    "collapsed": false
   },
   "outputs": [
    {
     "ename": "NameError",
     "evalue": "name 'np' is not defined",
     "output_type": "error",
     "traceback": [
      "\u001b[0;31m---------------------------------------------------------------------------\u001b[0m",
      "\u001b[0;31mNameError\u001b[0m                                 Traceback (most recent call last)",
      "\u001b[0;32m<ipython-input-1-ed7535230d29>\u001b[0m in \u001b[0;36m<module>\u001b[0;34m()\u001b[0m\n\u001b[1;32m      3\u001b[0m \u001b[0mim_ecc\u001b[0m \u001b[0;34m=\u001b[0m \u001b[0;36m20\u001b[0m\u001b[0;34m\u001b[0m\u001b[0m\n\u001b[1;32m      4\u001b[0m \u001b[0mim_radius\u001b[0m \u001b[0;34m=\u001b[0m \u001b[0;36m1\u001b[0m\u001b[0;34m\u001b[0m\u001b[0m\n\u001b[0;32m----> 5\u001b[0;31m \u001b[0mim_angle\u001b[0m \u001b[0;34m=\u001b[0m \u001b[0mnp\u001b[0m\u001b[0;34m.\u001b[0m\u001b[0mdeg2rad\u001b[0m\u001b[0;34m(\u001b[0m\u001b[0;36m315\u001b[0m\u001b[0;34m)\u001b[0m\u001b[0;34m;\u001b[0m\u001b[0;34m\u001b[0m\u001b[0m\n\u001b[0m\u001b[1;32m      6\u001b[0m \u001b[0;34m\u001b[0m\u001b[0m\n\u001b[1;32m      7\u001b[0m \u001b[0mecc_list\u001b[0m \u001b[0;34m=\u001b[0m \u001b[0mring_ecc_spacing\u001b[0m\u001b[0;34m(\u001b[0m\u001b[0mim_ecc\u001b[0m\u001b[0;34m-\u001b[0m\u001b[0mim_radius\u001b[0m\u001b[0;34m,\u001b[0m \u001b[0mim_ecc\u001b[0m\u001b[0;34m+\u001b[0m\u001b[0mim_radius\u001b[0m\u001b[0;34m)\u001b[0m\u001b[0;34m\u001b[0m\u001b[0m\n",
      "\u001b[0;31mNameError\u001b[0m: name 'np' is not defined"
     ]
    }
   ],
   "source": [
    "#then to place cones along those rings we will need a function that given an eccentricity and an arc length.\n",
    "#will return the number of cones along that arc length.\n",
    "im_ecc = 20\n",
    "im_radius = 1\n",
    "im_angle = np.deg2rad(315);\n",
    "\n",
    "ecc_list = ring_ecc_spacing(im_ecc-im_radius, im_ecc+im_radius)\n",
    "\n",
    "#to do this we need a function that given an eccentricity, image center,\n",
    "#and radius returns the angles of the arc with respect to fovea\n",
    "def get_angle_across_circim(im_ecc, im_radius, ring_ecc_from_fov):\n",
    "    d_theta  = np.arccos((ring_ecc_from_fov**2 + im_ecc**2 - im_radius**2)/(2*ring_ecc_from_fov*im_ecc))\n",
    "    return 2*d_theta\n",
    "\n",
    "def arc_length(angle, radius):\n",
    "    #in radians\n",
    "    return radius*angle\n",
    "\n",
    "def n_cones_per_arclength_given_ecc(arclength, ecc):\n",
    "    cpd = cone_per_deg(ecc)\n",
    "    return cpd*arclength\n",
    "\n",
    "d_theta = []\n",
    "for ring_ecc_from_fov in ecc_list:\n",
    "    d_theta.append(get_angle_across_circim(im_ecc, im_radius, ring_ecc_from_fov))\n",
    "d_theta_list = np.array(d_theta)    \n",
    "\n",
    "arc_length_list = d_theta*ecc_list\n",
    "n_cones = []\n",
    "for arclength, ecc in zip(arc_length_list, ecc_list):\n",
    "    n_cones.append(n_cones_per_arclength_given_ecc(arclength, ecc))\n",
    "n_cones = np.array(n_cones)\n",
    "\n",
    "\n",
    "plt.figure()\n",
    "plt.plot(ecc_list, arc_length_list)\n",
    "plt.xlabel('eccentricity')\n",
    "plt.ylabel('arc length across image')"
   ]
  },
  {
   "cell_type": "code",
   "execution_count": 156,
   "metadata": {
    "collapsed": false
   },
   "outputs": [
    {
     "name": "stderr",
     "output_type": "stream",
     "text": [
      "/Users/deanpospisil/anaconda3/lib/python3.5/site-packages/ipykernel/__main__.py:7: DeprecationWarning: object of type <class 'numpy.float64'> cannot be safely interpreted as an integer.\n"
     ]
    },
    {
     "data": {
      "text/plain": [
       "70"
      ]
     },
     "execution_count": 156,
     "metadata": {},
     "output_type": "execute_result"
    },
    {
     "data": {
      "image/png": "[encoded data removed]",
      "text/plain": [
       "<matplotlib.figure.Figure at 0x114cb9780>"
      ]
     },
     "metadata": {},
     "output_type": "display_data"
    }
   ],
   "source": [
    "# so we have the eccentricities of each ring and the number of cones on each ring.\n",
    "# now we need to get all of their locations.\n",
    "# we get angle range linearly space n cones along it, and associate the ecc with it\n",
    "\n",
    "angles = []\n",
    "for ecc, d_theta, n_cone in zip(ecc_list, d_theta_list, n_cones):\n",
    "    angles.append(np.linspace(im_angle - d_theta/2., im_angle + d_theta/2., n_cone))\n",
    "def pol2cart(r, theta):\n",
    "    x = r*np.cos(theta)\n",
    "    y = r*np.sin(theta)\n",
    "    return (x, y)\n",
    "\n",
    "for r, thetas in zip(ecc_list, angles):\n",
    "    x_list = []\n",
    "    y_list = []\n",
    "    for theta in thetas:\n",
    "        (x,y) = pol2cart(r, theta)\n",
    "        x_list.append(x)\n",
    "        y_list.append(y)\n",
    "    plt.scatter(x_list, y_list, s=1)\n",
    "\n",
    "plt.axis('equal');\n",
    "\n",
    "len(ecc_list)\n",
    "#we will then have another function which takes a square image scaled to that circle in visual space\n",
    "#then resamples the image at those points. returning a list of locations and rgb values.\n",
    "\n",
    "#to display it we will plot points in visual space with colors corresponding to those samples.\n",
    "# seems way to dense?"
   ]
  },
  {
   "cell_type": "markdown",
   "metadata": {},
   "source": [
    "### The retino-cortico transform###"
   ]
  },
  {
   "cell_type": "markdown",
   "metadata": {},
   "source": [
    "The cones and assosciated RGC are exponentially spaced out from the fovea, whereas V1 is tightly packed. The question then is how a point in retinal space maps onto points in the cortex.\n",
    "Define a point in visual space radially with $\\epsilon$ as eccentricity from fovea in degrees visual angle, $\\theta$ as orientation with respect to the center of the fovea.\n",
    "\n",
    "Define a point in centimeters in V1 with $X \\in [0,3]$ moving lateral away from the corpus callosum toward the fovea, and $Y \\in [-2,2]$ moving ventral and posterior from fovea with $Y=0$ corresponding to the calcarine fissure and Y>0 corresponding to the bottom of visual space.\n",
    "We want to know the relation between $(X, Y)$ on V1 and ($\\epsilon, \\theta$) in the retina. Or determine the function $X(\\epsilon, \\theta)$ and $Y(\\epsilon, \\theta)$\n",
    "\n",
    "This is where the cortical magnifcation factor comes into play $M(\\epsilon) = \\frac{dX}{d \\epsilon}$ which intuitively is just the proportion of change in X cm's that we get for a small displacement in eccentricity in any angular direction.\n",
    "\n",
    "a reasonable estimate is $M(\\epsilon) = \\frac{dX}{d \\epsilon}=\\frac{1.2 cm}{1+\\epsilon}$\n",
    "\n",
    "If we integrate this we can get the actual X value:\n",
    "\n",
    "$X = 1.2 \\ln{(1+\\epsilon/\\epsilon_0)}$"
   ]
  },
  {
   "cell_type": "code",
   "execution_count": null,
   "metadata": {
    "collapsed": false
   },
   "outputs": [],
   "source": [
    "lam = 1.2\n",
    "eps = np.linspace(0, 60,100)\n",
    "x = lam*np.log(1+eps)\n",
    "plt.plot(x, eps);\n",
    "plt.xlabel('X cortex (cm)');\n",
    "plt.ylabel('eccentricity retina (degrees visual angle)');"
   ]
  },
  {
   "cell_type": "markdown",
   "metadata": {},
   "source": [
    "Now we want to know given an $\\epsilon$ what is the arc length between two points with some azimuthal difference $\\Delta \\theta \\rightarrow 0$:\n",
    "\n",
    "$\\frac{dY}{d\\theta} = - \\frac{M(\\epsilon)\\epsilon \\pi}{180^\\circ}$\n",
    "\n",
    "here $\\frac{pi}{180^\\circ}$ normalizes to radians, $\\epsilon$ takes into account increasing arc length with eccentricity and $M(\\epsilon)$ takes into account proportional distance changes on cortex. Taking the derivative to find $Y$:\n",
    "\n",
    "$Y=-\\frac{1.2 \\epsilon \\theta \\pi}{(1+\\epsilon)180^\\circ}$\n",
    "\n",
    "Now lets try applying this to an image:\n",
    "Lets say we have a Han Solo image centered at 10 degrees eccentricity subtending 12 degrees (a V4 receptive field)"
   ]
  },
  {
   "cell_type": "code",
   "execution_count": null,
   "metadata": {
    "collapsed": false
   },
   "outputs": [],
   "source": [
    "theta = 90 \n",
    "y = (lam*eps*theta*np.pi)/((1+eps)*180)\n",
    "plt.plot(eps, y);\n",
    "plt.plot(eps, -y);\n",
    "plt.ylabel('Y cortex (cm)');\n",
    "plt.xlabel('eccentricity retina (degrees visual angle)');\n",
    "plt.legend(['top visual field', 'bottom visual field'])"
   ]
  },
  {
   "cell_type": "code",
   "execution_count": null,
   "metadata": {
    "collapsed": true
   },
   "outputs": [],
   "source": [
    "def rc_trans(eps, theta):\n",
    "    y = (lam*eps*theta*np.pi)/((1+eps)*180)\n",
    "    x = lam*np.log(1+eps)\n",
    "    return x, y\n",
    "    \n",
    "np.linspace(0,)"
   ]
  },
  {
   "cell_type": "code",
   "execution_count": null,
   "metadata": {
    "collapsed": false
   },
   "outputs": [],
   "source": [
    "w_0 = 0.087\n",
    "eps = 0.051\n",
    "r = np.linspace(0, 30, 1000)\n",
    "\n",
    "rho = (w_0 + eps*r)**(-2)\n",
    "\n",
    "plt.plot(r, rho);\n",
    "plt.xlabel('eccentricity (deg)');\n",
    "plt.ylabel('Packing density RGC');"
   ]
  },
  {
   "cell_type": "markdown",
   "metadata": {},
   "source": [
    "Retinal gangnlion packing density ($\\rho_R$ cells per unit retinal area):\n",
    "$$\\rho_R = (w_0 + \\epsilon r_R)^{-2}$$\n",
    "\n",
    "$w_0 = 0.087$\n",
    "\n",
    "$\\epsilon = 0.051 $\n",
    "\n",
    "$r_R = $ radius from fovea degrees visual angle  "
   ]
  },
  {
   "cell_type": "markdown",
   "metadata": {
    "collapsed": true
   },
   "source": [
    "### Cortical receptive fields###"
   ]
  },
  {
   "cell_type": "markdown",
   "metadata": {},
   "source": [
    "To a first approximation ($r=$ RF width and $e = $ eccentricity both in visual degrees)\n",
    "V1\n",
    "\n",
    "$r = 1 + 0.16e$\n",
    "\n",
    "V2\n",
    "\n",
    "$r = 2 + 0.4e$\n",
    "\n",
    "V3 \n",
    "\n",
    "Essen 1987 says 1.26 + 0.18e but they say in the same study V3 was larger than V2? \n",
    "Lets just put it between V2 and V4\n",
    "\n",
    "$r = 2.5 + 0.575e$\n",
    "\n",
    "V4\n",
    "\n",
    "$r =  3 + 0.75e$"
   ]
  },
  {
   "cell_type": "markdown",
   "metadata": {},
   "source": [
    "So to a first approximation we see a slowing rate of increase in RF size. "
   ]
  },
  {
   "cell_type": "code",
   "execution_count": null,
   "metadata": {
    "collapsed": false
   },
   "outputs": [],
   "source": [
    "rfs = [0.16, 0.4, .575, .75]\n",
    "offsets = [1, 2, 2.5, 3]\n",
    "\n",
    "ecc = np.linspace(0,60,100)\n",
    "for scale, shift in zip(rfs, offsets):\n",
    "    plt.plot(ecc, ecc*scale+shift)\n",
    "\n",
    "plt.legend(['v1', 'v2', 'v3', 'v4'])"
   ]
  },
  {
   "cell_type": "code",
   "execution_count": null,
   "metadata": {
    "collapsed": false
   },
   "outputs": [],
   "source": [
    "rfs = np.array(rfs)[:, np.newaxis].T\n",
    "ratios = rfs/rfs.T\n",
    "print(np.round(ratios,2))"
   ]
  },
  {
   "cell_type": "markdown",
   "metadata": {},
   "source": [
    "We can conclude from this that we can fit roughly 5 V1 receptive fields (given eccentricity at the center of the rf) end to end across a V4 receptive field, 3.6 into a V3, 2.5 into a V2. But beyond that there cannot be two RFs non-overlapping from V2 onward feeding into something upstream, so heavy overlap is the norm. So if I put in two well seperated stimuli in a single RF they might interact with two relatively independent V1 units but they will likely be under the umbrella of single feedforward input RF's thus will most likely interact at earlier stages of the hiearchy.\n",
    "\n",
    "We can caveat this with the fact that RF's are large and so are extending into more foveal regions where RF's will be smaller. "
   ]
  },
  {
   "cell_type": "code",
   "execution_count": null,
   "metadata": {
    "collapsed": true
   },
   "outputs": [],
   "source": []
  },
  {
   "cell_type": "code",
   "execution_count": null,
   "metadata": {
    "collapsed": true
   },
   "outputs": [],
   "source": []
  },
  {
   "cell_type": "code",
   "execution_count": null,
   "metadata": {
    "collapsed": true
   },
   "outputs": [],
   "source": []
  },
  {
   "cell_type": "code",
   "execution_count": null,
   "metadata": {
    "collapsed": true
   },
   "outputs": [],
   "source": []
  }
 ],
 "metadata": {
  "kernelspec": {
   "display_name": "Python 2",
   "language": "python",
   "name": "python2"
  },
  "language_info": {
   "codemirror_mode": {
    "name": "ipython",
    "version": 2
   },
   "file_extension": ".py",
   "mimetype": "text/x-python",
   "name": "python",
   "nbconvert_exporter": "python",
   "pygments_lexer": "ipython2",
   "version": "2.7.13"
  }
 },
 "nbformat": 4,
 "nbformat_minor": 2
}
