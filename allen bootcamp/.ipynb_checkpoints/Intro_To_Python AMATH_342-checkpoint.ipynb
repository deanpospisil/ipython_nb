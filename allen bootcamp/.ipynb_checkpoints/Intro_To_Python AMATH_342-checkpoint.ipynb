{
 "cells": [
  {
   "cell_type": "markdown",
   "metadata": {},
   "source": [
    "Hello STUDENTS!\n",
    "This tutorial has been graciously lent to us by the Allen institute. We do not expect you to do everything in this workbook but the other sections and excercises in this workbook might be helpful. Your only requirement is to do two assignments at the bottom of this document:\n",
    "excercise:\n",
    "1.10\n",
    "1.11"
   ]
  },
  {
   "cell_type": "markdown",
   "metadata": {},
   "source": [
    "<div style=\"border-left: 3px solid #000; padding: 1px; padding-left: 10px; background: #F0FAFF; \">\n",
    "<center><h1>Basic Python Part 1</h1></center>\n",
    "\n",
    "<p>Python is an interpreted language. This means that there is a running Python process that reads and interprets each line of your code, one at a time, and immediately executes that line before moving to the next. This is similar to Matlab.\n",
    "\n",
    "<p>We are interacting with Python though a Jupyter Notebook, one of many interfaces to Python. Jupyter keeps a Python process (called a \"kernel\") running in the background. Every time you execute a block of code, Jupyter passes your code to the Python interpreter and then displays the result immediately following the code block that was executed.\n",
    "\n",
    "<p>Execute your first Python command by highlighting the cell below and typing Shift-Return.\n",
    "</div>"
   ]
  },
  {
   "cell_type": "code",
   "execution_count": 1,
   "metadata": {
    "collapsed": false
   },
   "outputs": [
    {
     "name": "stdout",
     "output_type": "stream",
     "text": [
      "Hello, worlds\n"
     ]
    }
   ],
   "source": [
    "# Python is an interpreted language.\n",
    "# It executes commands as it receives them.\n",
    "# It ignores lines that begin with '#'.  These are called 'comments'.\n",
    "\n",
    "print(\"Hello, worlds\")"
   ]
  },
  {
   "cell_type": "markdown",
   "metadata": {},
   "source": [
    "<div style=\"border-left: 3px solid #000; padding: 1px; padding-left: 10px; background: #F0FAFF; \">\n",
    "<p>LISTS!\n",
    "</div>"
   ]
  },
  {
   "cell_type": "code",
   "execution_count": 2,
   "metadata": {
    "collapsed": false
   },
   "outputs": [
    {
     "data": {
      "text/plain": [
       "list"
      ]
     },
     "execution_count": 2,
     "metadata": {},
     "output_type": "execute_result"
    }
   ],
   "source": [
    "words_from_hello = ['goodbye', 'cruel', 'world']\n",
    "type(words_from_hello)"
   ]
  },
  {
   "cell_type": "markdown",
   "metadata": {},
   "source": [
    "<div style=\"border-left: 3px solid #000; padding: 1px; padding-left: 10px; background: #F0FAFF; \">\n",
    "<p>`list` is a fundamental type in Python.\n",
    "\n",
    "<p>What is a list?  A list is a collection of objects that is:\n",
    "\n",
    "<ol>\n",
    "<li>*ordered* - the objects are arranged in a certain order.\n",
    "<li>*addressable* - we can request each object by its address (its position in the list).\n",
    "<li>*mutable* - the list can be changed after it is created.\n",
    "</ol>\n",
    "\n",
    "<p>Note that lists may contain *any* type of Python object, and the objects in a list need not be of the same type.\n",
    "</div>"
   ]
  },
  {
   "cell_type": "code",
   "execution_count": 13,
   "metadata": {
    "collapsed": false
   },
   "outputs": [
    {
     "name": "stdout",
     "output_type": "stream",
     "text": [
      "['goodbye', 'cruel', 'cruel', '!']\n",
      "!\n",
      "cruel\n",
      "['goodbye', 'cruel', 'cruel', 'cruel', 'goodbye']\n"
     ]
    }
   ],
   "source": [
    "# A 'list' is an object that is \n",
    "\n",
    "# 1) ordered\n",
    "# words_from_hello[0] comes before words_from_hello[1]\n",
    "# There is a method to reverse the order\n",
    "words_from_hello.reverse()\n",
    "print(words_from_hello)\n",
    "words_from_hello.reverse()\n",
    "\n",
    "# 2) addressable       \n",
    "# Data in a list can be accessed with an index, starting from 0\n",
    "print(words_from_hello[0])\n",
    "print(words_from_hello[1])\n",
    "\n",
    "# 3) mutable\n",
    "words_from_hello[0] = 'goodbye'      # overwrite the first value\n",
    "words_from_hello.insert(1, 'cruel')  # insert a new value\n",
    "print(words_from_hello)"
   ]
  },
  {
   "cell_type": "markdown",
   "metadata": {},
   "source": [
    "<div style=\"border-left: 3px solid #000; padding: 1px; padding-left: 10px; background: #F0FAFF; \">\n",
    "<p>It's important enough to say again:\n",
    "\n",
    "<p><strong>Python indexes from 0!</strong>\n",
    "</div>"
   ]
  },
  {
   "cell_type": "code",
   "execution_count": 14,
   "metadata": {
    "collapsed": false
   },
   "outputs": [
    {
     "name": "stdout",
     "output_type": "stream",
     "text": [
      "['goodbye', 'cruel', 'cruel', 'cruel', 'goodbye', '!']\n",
      "['goodbye', 'cruel', 'cruel', 'goodbye', '!']\n",
      "['goodbye', 'cruel', 'cruel', 'cruel', 'goodbye', '!']\n",
      "['goodbye', 'cruel', 'cruel', 'goodbye', '!']\n"
     ]
    }
   ],
   "source": [
    "# Common methods for lists\n",
    "words_from_hello.append('!')        # add an object to a list\n",
    "print(words_from_hello)\n",
    "words_from_hello.remove('cruel')    # remove the first instance of a given object\n",
    "print(words_from_hello)\n",
    "words_from_hello.insert(1,'cruel')  # insert an object at a given index\n",
    "print(words_from_hello)\n",
    "words_from_hello.pop(3)             # remove the item at a specific index\n",
    "print(words_from_hello)"
   ]
  },
  {
   "cell_type": "markdown",
   "metadata": {},
   "source": [
    "<div style=\"background: #DFF0D8; border-radius: 3px; padding: 10px;\">\n",
    "<p>**Exercise 1.6:**  Sort words in `words_from_hello` alphabetically.\n",
    "</div>"
   ]
  },
  {
   "cell_type": "code",
   "execution_count": 15,
   "metadata": {
    "collapsed": false
   },
   "outputs": [],
   "source": [
    "words_from_hello.sort()"
   ]
  },
  {
   "cell_type": "code",
   "execution_count": 16,
   "metadata": {
    "collapsed": false
   },
   "outputs": [
    {
     "name": "stdout",
     "output_type": "stream",
     "text": [
      "Help on built-in function sort:\n",
      "\n",
      "sort(...) method of builtins.list instance\n",
      "    L.sort(key=None, reverse=False) -> None -- stable sort *IN PLACE*\n",
      "\n"
     ]
    }
   ],
   "source": [
    "help(words_from_hello.sort)"
   ]
  },
  {
   "cell_type": "markdown",
   "metadata": {},
   "source": [
    "<div style=\"border-left: 3px solid #000; padding: 1px; padding-left: 10px; background: #F0FAFF; \">\n",
    "<p>`range()` is a convenient function to create lists of `int`s.  Notice that the entries here run from 0 to 9 when we ask for a list of length 10.\n",
    "</div>"
   ]
  },
  {
   "cell_type": "code",
   "execution_count": 17,
   "metadata": {
    "collapsed": false
   },
   "outputs": [
    {
     "name": "stdout",
     "output_type": "stream",
     "text": [
      "range(0, 10)\n"
     ]
    }
   ],
   "source": [
    "my_ints = range(10)\n",
    "print(my_ints)"
   ]
  },
  {
   "cell_type": "markdown",
   "metadata": {},
   "source": [
    "<div style=\"border-left: 3px solid #000; padding: 1px; padding-left: 10px; background: #F0FAFF; \">\n",
    "<p>`len()` is a convenient function to find out the length of certain types of objects, like strings and lists:\n",
    "</div>"
   ]
  },
  {
   "cell_type": "code",
   "execution_count": 19,
   "metadata": {
    "collapsed": false
   },
   "outputs": [
    {
     "name": "stdout",
     "output_type": "stream",
     "text": [
      "10\n",
      "5\n"
     ]
    }
   ],
   "source": [
    "print(len(my_ints))\n",
    "print(len(words_from_hello))\n"
   ]
  },
  {
   "cell_type": "markdown",
   "metadata": {},
   "source": [
    "<div style=\"border-left: 3px solid #000; padding: 1px; padding-left: 10px; background: #F0FAFF; \">\n",
    "<p>We have already seen that we can access specific items in a list by indexing:\n",
    "</div>\n",
    "\n",
    "```python\n",
    "second_item = my_list[1]\n",
    "```\n",
    "\n",
    "<div style=\"border-left: 3px solid #000; padding: 1px; padding-left: 10px; background: #F0FAFF; \">   \n",
    "<p>We can also access a subset of a list with \"slicing\":\n",
    "</div>"
   ]
  },
  {
   "cell_type": "code",
   "execution_count": 22,
   "metadata": {
    "collapsed": false
   },
   "outputs": [
    {
     "name": "stdout",
     "output_type": "stream",
     "text": [
      "['!', 'cruel', 'cruel', 'goodbye', 'goodbye']\n",
      "['cruel', 'goodbye']\n",
      "['!', 'cruel', 'cruel']\n",
      "['goodbye', 'goodbye']\n"
     ]
    }
   ],
   "source": [
    "my_new_list = words_from_hello\n",
    "print(my_new_list)\n",
    "print(my_new_list[2:4])    # The upper limit of '4' is non-inclusive; this will return a list of length 2\n",
    "print(my_new_list[:3])   # This will return the first three elements\n",
    "print(my_new_list[-2:])  # You can also index from the end of an array.  This returns the last two elements."
   ]
  },
  {
   "cell_type": "markdown",
   "metadata": {},
   "source": [
    "<div style=\"background: #DFF0D8; border-radius: 3px; padding: 10px;\">\n",
    "<p>**Exercise 1.7:**  Replace the suffix in a filename string'\n",
    "\n",
    "<p>&nbsp;&nbsp;&nbsp;            'my_file.txt' -> 'my_file.pdf'\n",
    "</div>"
   ]
  },
  {
   "cell_type": "code",
   "execution_count": 23,
   "metadata": {
    "collapsed": false
   },
   "outputs": [
    {
     "data": {
      "text/plain": [
       "['my_file', 'txt']"
      ]
     },
     "execution_count": 23,
     "metadata": {},
     "output_type": "execute_result"
    }
   ],
   "source": [
    "tmp = 'my_file.txt'.split('.')\n",
    "tmp"
   ]
  },
  {
   "cell_type": "code",
   "execution_count": 24,
   "metadata": {
    "collapsed": false
   },
   "outputs": [
    {
     "data": {
      "text/plain": [
       "'my_file.pdf'"
      ]
     },
     "execution_count": 24,
     "metadata": {},
     "output_type": "execute_result"
    }
   ],
   "source": [
    "tmp[0]+'.pdf'"
   ]
  },
  {
   "cell_type": "code",
   "execution_count": 25,
   "metadata": {
    "collapsed": false
   },
   "outputs": [],
   "source": [
    "tmp = 'my_file.txt'"
   ]
  },
  {
   "cell_type": "code",
   "execution_count": 26,
   "metadata": {
    "collapsed": false
   },
   "outputs": [],
   "source": [
    "tmp = tmp[:7]"
   ]
  },
  {
   "cell_type": "code",
   "execution_count": 27,
   "metadata": {
    "collapsed": false
   },
   "outputs": [
    {
     "name": "stdout",
     "output_type": "stream",
     "text": [
      "my_file\n"
     ]
    }
   ],
   "source": []
  },
  {
   "cell_type": "markdown",
   "metadata": {},
   "source": [
    "<div style=\"border-left: 3px solid #000; padding: 1px; padding-left: 10px; background: #F0FAFF; \">\n",
    "<p><h2>Review</h2>\n",
    "\n",
    "<ol>\n",
    "<li>All variables are objects.  Objects have methods.\n",
    "<li>Data Structures: list, tuple, dict\n",
    "<li>Data Types:  str, float, int\n",
    "</ol>\n",
    "\n",
    "</div>"
   ]
  },
  {
   "cell_type": "markdown",
   "metadata": {},
   "source": [
    "<div style=\"background: #DFF0D8; border-radius: 3px; padding: 10px;\">\n",
    "<h2>Exercises</h2>\n",
    "\n",
    "<strong>Exercise 1.10:</strong>  Write a function that replaces every instance of a character (e.g. 'l') in a string with another (e.g. 'y'). So you should have three inputs, the sentence, the letter to replace, and the letter to replace the old one with. Then you return the new sentence. Demonstrate this function working.\n",
    "\n",
    "<p>             'hello' -> 'heyyo'\n",
    "             \n",
    "</div>"
   ]
  },
  {
   "cell_type": "code",
   "execution_count": null,
   "metadata": {
    "collapsed": false
   },
   "outputs": [],
   "source": []
  },
  {
   "cell_type": "markdown",
   "metadata": {},
   "source": [
    "<div style=\"background: #DFF0D8; border-radius: 3px; padding: 10px;\">\n",
    "<p><strong>Exercise 1.11:</strong>  Write a function that reverses the word order in a sentence. Demonstrate it working.\n",
    "</div>"
   ]
  },
  {
   "cell_type": "code",
   "execution_count": null,
   "metadata": {
    "collapsed": false
   },
   "outputs": [],
   "source": []
  }
 ],
 "metadata": {
  "kernelspec": {
   "display_name": "Python 3",
   "language": "python",
   "name": "python3"
  },
  "language_info": {
   "codemirror_mode": {
    "name": "ipython",
    "version": 3
   },
   "file_extension": ".py",
   "mimetype": "text/x-python",
   "name": "python",
   "nbconvert_exporter": "python",
   "pygments_lexer": "ipython3",
   "version": "3.5.2"
  },
  "widgets": {
   "state": {},
   "version": "1.1.2"
  }
 },
 "nbformat": 4,
 "nbformat_minor": 0
}
