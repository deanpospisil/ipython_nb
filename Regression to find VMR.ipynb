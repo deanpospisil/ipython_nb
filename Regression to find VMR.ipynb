{
 "cells": [
  {
   "cell_type": "markdown",
   "metadata": {},
   "source": [
    "## Measuring the Variance to Mean Ratio##\n",
    "\n",
    "In neurons there tends to be a strong linear dependence of the variance on the mean. We would like to measure both the strength of this relationship and the parameters of this relationship as best we can. There are a variety of choices both in analysis and experiment that can be adjusted to optimize the accuracy of this measurement as indexed by the bias and variance. To determine these trade offs requires a model.\n",
    "\n",
    "\n",
    "### Analysis###\n",
    "\n",
    "$\\hat{\\mu} = $ estimator of mean\n",
    "\n",
    "$\\hat{\\sigma}^2= $ estimator of variance \n",
    "\n",
    "$\\hat{\\beta} = $ estimator of the relationship between variance and mean.\n",
    "\n",
    "### Experiment###\n",
    "$n = $ number of stimuli\n",
    "\n",
    "$m = $ number of trials\n",
    "\n",
    "$d = $ dynamic range of neuron.\n",
    "\n",
    "\n",
    "Notes:\n",
    "I am trying to estimate the relationships of the variance to the mean assuming $\\sigma^2= B_0\\mu^{B_1}$. This is essentially finding the whitening coeffienctor transformation.\n",
    "\n"
   ]
  },
  {
   "cell_type": "markdown",
   "metadata": {},
   "source": [
    "### Model###\n",
    "We can work this out for models of increasing complexity starting with a simple normal model.\n",
    "\n",
    "$$Y_i \\sim N(\\mu_i, \\beta \\mu_i)$$ with $\\beta$ and $\\mu_i$ unknown and we want to estimate $\\beta$\n",
    "\n",
    "We can take estimators of the mean and the variance:\n",
    "$$\\hat{\\mu_i} = \\frac{1}{m}\\sum_j^m{Y_{ij}}$$\n",
    "$$\\hat{\\sigma^2} = \\frac{1}{m-1}\\sum_j^m{(Y_{ij}-\\hat{\\mu_i})^2}$$"
   ]
  },
  {
   "cell_type": "markdown",
   "metadata": {},
   "source": [
    "The distribution of these estimators in this case are:\n",
    "$$\\hat{\\mu_i} \\sim N(\\mu_i, \\frac{\\beta \\mu_i}{m})$$\n",
    "\n",
    "$$\\hat{\\sigma_i^2} \\sim \\beta \\mu_i \\chi_{m-1}^2 $$\n",
    "\n",
    "These are independent conditional on their parameters.\n",
    "\n",
    "\n",
    "\n",
    "One way to estimate $\\beta$ is via linear regression."
   ]
  },
  {
   "cell_type": "markdown",
   "metadata": {},
   "source": [
    "Our model is:\n",
    "\n",
    "$\\sigma_i^2 = \\beta \\mu_i + \\epsilon (\\beta\\mu_i)$\n"
   ]
  },
  {
   "cell_type": "markdown",
   "metadata": {},
   "source": [
    "We estimate $\\beta$ by solving the equation:\n",
    "\n",
    "$\\hat{\\sigma_i^2} = \\beta \\hat{\\mu_i}$\n",
    "\n",
    "with least squares:\n",
    "\n",
    "$$\\hat{\\beta} = \\frac{\\sum_i^n{[\\hat{\\sigma_i^2} \\hat{\\mu_i}]}}{\\sum_i^n{[\\hat{\\mu_i} ]^2}}$$"
   ]
  },
  {
   "cell_type": "markdown",
   "metadata": {},
   "source": [
    "now to find the approximate distribution of $\\hat{\\beta}$ we will use the $\\delta$ method to do this we need:\n",
    "\n",
    "$E([\\hat{\\sigma_i^2} \\hat{\\mu_i}]) = \\beta$\n",
    "\n",
    "$E([\\hat{\\mu_i} ]^2)$\n",
    "\n",
    "$Var([\\hat{\\sigma_i^2} \\hat{\\mu_i}])$\n",
    "\n",
    "$Var([\\hat{\\mu_i} ]^2)$\n",
    "\n",
    "and\n",
    "\n",
    "$Cov([\\hat{\\sigma_i^2} \\hat{\\mu_i}], [\\hat{\\mu_i} ]^2)$\n",
    "\n",
    "\n",
    "A major problem here is that these are not IID our means and variances are changing. \n",
    "And also "
   ]
  },
  {
   "cell_type": "code",
   "execution_count": null,
   "metadata": {
    "collapsed": true
   },
   "outputs": [],
   "source": [
    "import matplotlib.pyplot as plt\n",
    "import numpy as np\n",
    "%matplotlib inline"
   ]
  },
  {
   "cell_type": "code",
   "execution_count": 56,
   "metadata": {
    "collapsed": false
   },
   "outputs": [
    {
     "data": {
      "text/plain": [
       "(200,)"
      ]
     },
     "execution_count": 56,
     "metadata": {},
     "output_type": "execute_result"
    }
   ],
   "source": [
    "lambdas.shape"
   ]
  },
  {
   "cell_type": "code",
   "execution_count": 163,
   "metadata": {
    "collapsed": false
   },
   "outputs": [
    {
     "name": "stdout",
     "output_type": "stream",
     "text": [
      "(1000, 20)\n"
     ]
    },
    {
     "data": {
      "image/png": "[encoded data removed]",
      "text/plain": [
       "<matplotlib.figure.Figure at 0x7fb3a9355d10>"
      ]
     },
     "metadata": {},
     "output_type": "display_data"
    }
   ],
   "source": [
    "amplitude = 5\n",
    "base_line = 10\n",
    "true_r2 = 0.8\n",
    "n_exps = 1000\n",
    "vmr = 2\n",
    "n = 5\n",
    "m = 20\n",
    "angle = np.arccos(true_r2**0.5)\n",
    "#create the expected responses\n",
    "lambdas = base_line + (np.cos(np.linspace(0, 2*np.pi, m))*amplitude) #s\n",
    "y = np.random.poisson(lambdas, size=(n_exps, n, m)) # n_experiments n_trials m_stimuli\n",
    "y = np.random.normal(lambdas, np.sqrt(vmr*lambdas), size=(n_exps, n, m)) # n_experiments n_trials m_stimuli\n",
    "\n",
    "y_mean = y.mean(1) # average the trials\n",
    "y_var = y.var(1, ddof=1)\n",
    "plt.scatter(y_mean[0], y_var[0])\n",
    "ax = plt.gca()\n",
    "#ax.set_xscale(\"log\", nonposx='clip')\n",
    "#ax.set_yscale(\"log\", nonposy='clip')\n",
    "plt.axis('square')\n",
    "#plt.xlim([0.1,base_line*amplitude]);plt.ylim([0.1,base_line*amplitude])\n",
    "plt.plot([0.1,base_line*amplitude],[0.1,base_line*amplitude], color='r')\n",
    "plt.xlabel('Sample Mean');plt.ylabel('Sample Variance')\n",
    "print(y_mean.shape)"
   ]
  },
  {
   "cell_type": "code",
   "execution_count": 164,
   "metadata": {
    "collapsed": false
   },
   "outputs": [
    {
     "name": "stderr",
     "output_type": "stream",
     "text": [
      "/home/dean/anaconda2/lib/python2.7/site-packages/ipykernel/__main__.py:6: RuntimeWarning: invalid value encountered in log\n"
     ]
    }
   ],
   "source": [
    "from statsmodels.formula.api import ols\n",
    "import statsmodels.api as sm\n",
    "import pandas as pd\n",
    "slopes = []\n",
    "for i in range(n_exps):\n",
    "    df = pd.DataFrame(np.array([np.log(y_mean[i]), np.log(y_var[i])]).T, columns=['mean', 'var'])\n",
    "    df = pd.DataFrame(np.array([y_mean[i], y_var[i]]).T, columns=['mean', 'var'])\n",
    "    mod = (ols('var ~ mean - 1', data=df).fit())\n",
    "    slopes.append(mod.params[0])"
   ]
  },
  {
   "cell_type": "code",
   "execution_count": 165,
   "metadata": {
    "collapsed": false
   },
   "outputs": [
    {
     "data": {
      "text/plain": [
       "0.15452113852491248"
      ]
     },
     "execution_count": 165,
     "metadata": {},
     "output_type": "execute_result"
    },
    {
     "data": {
      "image/png": "[encoded data removed]",
      "text/plain": [
       "<matplotlib.figure.Figure at 0x7fb3a8842990>"
      ]
     },
     "metadata": {},
     "output_type": "display_data"
    }
   ],
   "source": [
    "slopes = np.array(slopes)[~np.isinf(slopes)]\n",
    "plt.hist(slopes, bins=50);\n",
    "plt.title('Mean=' + str(np.round(np.mean(slopes),2)))\n",
    "\n",
    "np.sum((slopes - vmr)**2)/1000"
   ]
  },
  {
   "cell_type": "code",
   "execution_count": 166,
   "metadata": {
    "collapsed": false
   },
   "outputs": [
    {
     "name": "stdout",
     "output_type": "stream",
     "text": [
      "                 Results: Ordinary least squares\n",
      "=================================================================\n",
      "Model:              OLS              Adj. R-squared:     0.766   \n",
      "Dependent Variable: var              AIC:                159.6864\n",
      "Date:               2018-07-04 18:01 BIC:                160.6821\n",
      "No. Observations:   20               Log-Likelihood:     -78.843 \n",
      "Df Model:           1                F-statistic:        66.40   \n",
      "Df Residuals:       19               Prob (F-statistic): 1.27e-07\n",
      "R-squared:          0.778            Scale:              163.65  \n",
      "--------------------------------------------------------------------\n",
      "          Coef.     Std.Err.      t       P>|t|     [0.025    0.975]\n",
      "--------------------------------------------------------------------\n",
      "mean      2.2063      0.2708    8.1486    0.0000    1.6396    2.7730\n",
      "-----------------------------------------------------------------\n",
      "Omnibus:              1.049        Durbin-Watson:           2.073\n",
      "Prob(Omnibus):        0.592        Jarque-Bera (JB):        0.720\n",
      "Skew:                 0.447        Prob(JB):                0.698\n",
      "Kurtosis:             2.746        Condition No.:           1    \n",
      "=================================================================\n",
      "\n"
     ]
    }
   ],
   "source": [
    "print(mod.summary2())"
   ]
  },
  {
   "cell_type": "code",
   "execution_count": 167,
   "metadata": {
    "collapsed": false
   },
   "outputs": [
    {
     "data": {
      "text/plain": [
       "0.14789070001109644"
      ]
     },
     "execution_count": 167,
     "metadata": {},
     "output_type": "execute_result"
    }
   ],
   "source": [
    "est = (y_var/y_mean).mean(1)\n",
    "np.sum((est - vmr)**2)/1000"
   ]
  },
  {
   "cell_type": "code",
   "execution_count": null,
   "metadata": {
    "collapsed": false
   },
   "outputs": [],
   "source": []
  },
  {
   "cell_type": "code",
   "execution_count": 123,
   "metadata": {
    "collapsed": false
   },
   "outputs": [
    {
     "name": "stdout",
     "output_type": "stream",
     "text": [
      "[ 50  68  87 106 125 144 163 182 201 220 239 258 277 296 315 334 353 372\n",
      " 391 410 429 448 467 486 505 524 543 562 581 600 619 638 657 676 695 714\n",
      " 733 752 771 790 809 828 847 866 885 904 923 942 961 980]\n",
      "[[ 1.          0.63978731]\n",
      " [ 0.63978731  1.        ]]\n"
     ]
    },
    {
     "data": {
      "image/png": "[encoded data removed]",
      "text/plain": [
       "<matplotlib.figure.Figure at 0x7fb3aac5e6d0>"
      ]
     },
     "metadata": {},
     "output_type": "display_data"
    },
    {
     "data": {
      "image/png": "[encoded data removed]",
      "text/plain": [
       "<matplotlib.figure.Figure at 0x7fb3a8d16f90>"
      ]
     },
     "metadata": {},
     "output_type": "display_data"
    },
    {
     "data": {
      "image/png": "[encoded data removed]",
      "text/plain": [
       "<matplotlib.figure.Figure at 0x7fb3a978eed0>"
      ]
     },
     "metadata": {},
     "output_type": "display_data"
    }
   ],
   "source": [
    "amplitude = 30\n",
    "base_line = 50\n",
    "true_r2 = 0.8\n",
    "n_exps = 1\n",
    "n = 1\n",
    "m = 2000\n",
    "angle = np.arccos(true_r2**0.5)\n",
    "#create the expected responses\n",
    "lambdas = base_line + (np.cos(np.linspace(0, 2*np.pi, m))*amplitude) #s\n",
    "y = np.random.poisson(lambdas, size=(n_exps, n, m)) # n_experiments n_trials m_stimuli\n",
    "plt.plot(y[0].T)\n",
    "\n",
    "bin_len=50\n",
    "bins = np.linspace(50,980,bin_len).astype(int)\n",
    "print(bins)\n",
    "ys = np.sort(y[0].ravel())\n",
    "plt.figure()\n",
    "plt.plot(ys)\n",
    "v = [np.var(ys[a_bin:a_bin+bin_len]) for a_bin in bins]\n",
    "m = [np.mean(ys[a_bin:a_bin+bin_len]) for a_bin in bins]\n",
    "\n",
    "plt.figure()\n",
    "plt.scatter(m,v)\n",
    "plt.xlabel('Mean')\n",
    "plt.ylabel('variance')\n",
    "print(np.corrcoef(m,v))\n",
    "    "
   ]
  },
  {
   "cell_type": "markdown",
   "metadata": {},
   "source": [
    "Here I want to figure out:\n",
    "Why should I use the log log transform to the mean and variance: sqaured and linear become orthogonal?\n",
    "How do my confidence intervals depend upon n, m, dynamic range, and mean. Which should I work the hardest to get?\n",
    "Why are my residuals not normal?\n",
    "\n"
   ]
  },
  {
   "cell_type": "code",
   "execution_count": 56,
   "metadata": {
    "collapsed": false
   },
   "outputs": [
    {
     "data": {
      "text/plain": [
       "(2000,)"
      ]
     },
     "execution_count": 56,
     "metadata": {},
     "output_type": "execute_result"
    }
   ],
   "source": [
    "ys.shape"
   ]
  },
  {
   "cell_type": "code",
   "execution_count": null,
   "metadata": {
    "collapsed": true
   },
   "outputs": [],
   "source": []
  },
  {
   "cell_type": "markdown",
   "metadata": {
    "collapsed": true
   },
   "source": [
    "\n",
    "Taking logs:\n",
    "$log(\\sigma_i^2) = log(\\beta) + log(\\mu_i)$\n",
    "\n",
    "Here $\\beta = \\frac{1}{n} \\sum_i^n{\\log(\\sigma_i^2)} - \\frac{1}{n} \\sum_i^n{\\log(\\mu_i)}$\n",
    "\n",
    "Our estimator of $\\beta$ will be:\n",
    "\n",
    "$\\hat{\\beta} = \\frac{1}{n} \\sum_i^n{\\log(\\hat{\\sigma_i^2})} - \\frac{1}{n} \\sum_i^n{\\log(\\hat{\\mu_i})}$"
   ]
  },
  {
   "cell_type": "code",
   "execution_count": null,
   "metadata": {
    "collapsed": true
   },
   "outputs": [],
   "source": []
  }
 ],
 "metadata": {
  "kernelspec": {
   "display_name": "Python 2",
   "language": "python",
   "name": "python2"
  },
  "language_info": {
   "codemirror_mode": {
    "name": "ipython",
    "version": 2
   },
   "file_extension": ".py",
   "mimetype": "text/x-python",
   "name": "python",
   "nbconvert_exporter": "python",
   "pygments_lexer": "ipython2",
   "version": "2.7.13"
  }
 },
 "nbformat": 4,
 "nbformat_minor": 2
}
