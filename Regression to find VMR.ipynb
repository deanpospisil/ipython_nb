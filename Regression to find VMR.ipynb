{
 "cells": [
  {
   "cell_type": "markdown",
   "metadata": {},
   "source": [
    "## Measuring the Variance to Mean Ratio##\n",
    "\n",
    "In neurons there tends to be a strong linear dependence of the variance on the mean. We would like to measure both the strength of this relationship and the parameters of this relationship as best we can. There are a variety of choices both in analysis and experiment that can be adjusted to optimize the accuracy of this measurement as indexed by the bias and variance. To determine these trade offs requires a model.\n",
    "\n",
    "\n",
    "### Analysis###\n",
    "\n",
    "$\\hat{\\mu} = $ estimator of mean\n",
    "\n",
    "$\\hat{\\sigma}^2= $ estimator of variance \n",
    "\n",
    "$\\hat{\\beta} = $ estimator of the relationship between variance and mean.\n",
    "\n",
    "### Experiment###\n",
    "$n = $ number of stimuli\n",
    "\n",
    "$m = $ number of trials\n",
    "\n",
    "$d = $ dynamic range of neuron.\n",
    "\n",
    "\n",
    "Notes:\n",
    "I am trying to estimate the relationships of the variance to the mean assuming $\\sigma^2= B_0\\mu^{B_1}$. This is essentially finding the whitening coeffienctor transformation.\n",
    "\n"
   ]
  },
  {
   "cell_type": "markdown",
   "metadata": {},
   "source": [
    "### Model###\n",
    "We can work this out for models of increasing complexity starting with a simple normal model.\n",
    "\n",
    "$$Y_i \\sim N(\\mu_i, \\beta \\mu_i)$$ with $\\beta$ and $\\mu_i$ unknown and we want to estimate $\\beta$\n",
    "\n",
    "We can take estimators of the mean and the variance:\n",
    "$$\\hat{\\mu_i} = \\frac{1}{n}\\sum_j^m{Y_{ij}}$$\n",
    "$$\\hat{\\beta \\mu_i} = \\frac{1}{n-1}\\sum_j^m{(Y_{ij}-\\hat{\\mu_i})^2}$$\n",
    "\n",
    "One way to estimate $\\beta$ is via linear regression.\n",
    "If you take logs then you are solely finding the intercept\n"
   ]
  },
  {
   "cell_type": "code",
   "execution_count": 1,
   "metadata": {
    "collapsed": true
   },
   "outputs": [],
   "source": [
    "import matplotlib.pyplot as plt\n",
    "import numpy as np\n",
    "%matplotlib inline"
   ]
  },
  {
   "cell_type": "code",
   "execution_count": 24,
   "metadata": {
    "collapsed": false
   },
   "outputs": [
    {
     "data": {
      "text/plain": [
       "<matplotlib.text.Text at 0x116879160>"
      ]
     },
     "execution_count": 24,
     "metadata": {},
     "output_type": "execute_result"
    },
    {
     "data": {
      "image/png": "[encoded data removed]",
      "text/plain": [
       "<matplotlib.figure.Figure at 0x1160ac780>"
      ]
     },
     "metadata": {},
     "output_type": "display_data"
    }
   ],
   "source": [
    "amplitude = 40\n",
    "base_line = 50\n",
    "true_r2 = 0.8\n",
    "n_exps = 1000\n",
    "n = 1\n",
    "m = 200\n",
    "angle = np.arccos(true_r2**0.5)\n",
    "#create the expected responses\n",
    "lambdas = base_line + (np.cos(np.linspace(0, 2*np.pi, m))*amplitude) #s\n",
    "y = np.random.poisson(lambdas, size=(n_exps, n, m)) # n_experiments n_trials m_stimuli\n",
    "y_mean = y.mean(1) # average the trials\n",
    "y_var = y.var(1, ddof=0)\n",
    "plt.scatter(y_mean[0], y_var[0])\n",
    "ax = plt.gca()\n",
    "ax.set_xscale(\"log\", nonposx='clip')\n",
    "ax.set_yscale(\"log\", nonposy='clip')\n",
    "plt.axis('square')\n",
    "plt.xlim([0.1,base_line*amplitude]);plt.ylim([0.1,base_line*amplitude])\n",
    "plt.plot([0.1,base_line*amplitude],[0.1,base_line*amplitude], color='r')\n",
    "plt.xlabel('Sample Mean');plt.ylabel('Sample Variance')"
   ]
  },
  {
   "cell_type": "code",
   "execution_count": null,
   "metadata": {
    "collapsed": true
   },
   "outputs": [],
   "source": [
    "from statsmodels.formula.api import ols\n",
    "import statsmodels.api as sm\n",
    "import pandas as pd\n",
    "slopes = []\n",
    "for i in range(n_exps):\n",
    "    df = pd.DataFrame(np.array([np.log(y_mean[i]), np.log(y_var[i])]).T, columns=['mean', 'var'])\n",
    "    mod = (ols('var ~ mean', data=df).fit())\n",
    "    slopes.append(mod.params[1])"
   ]
  },
  {
   "cell_type": "code",
   "execution_count": 23,
   "metadata": {
    "collapsed": false
   },
   "outputs": [
    {
     "data": {
      "text/plain": [
       "<matplotlib.text.Text at 0x116708e10>"
      ]
     },
     "execution_count": 23,
     "metadata": {},
     "output_type": "execute_result"
    },
    {
     "data": {
      "image/png": "[encoded data removed]",
      "text/plain": [
       "<matplotlib.figure.Figure at 0x113aebc88>"
      ]
     },
     "metadata": {},
     "output_type": "display_data"
    }
   ],
   "source": [
    "slopes = np.array(slopes)[~np.isinf(slopes)]\n",
    "plt.hist(slopes, bins=50);\n",
    "plt.title('Mean=' + str(np.round(np.mean(slopes)))"
   ]
  },
  {
   "cell_type": "code",
   "execution_count": 15,
   "metadata": {
    "collapsed": false
   },
   "outputs": [
    {
     "name": "stdout",
     "output_type": "stream",
     "text": [
      "                 Results: Ordinary least squares\n",
      "=================================================================\n",
      "Model:              OLS              Adj. R-squared:     0.180   \n",
      "Dependent Variable: var              AIC:                304.1519\n",
      "Date:               2018-06-15 06:26 BIC:                310.7486\n",
      "No. Observations:   200              Log-Likelihood:     -150.08 \n",
      "Df Model:           1                F-statistic:        44.78   \n",
      "Df Residuals:       198              Prob (F-statistic): 2.21e-10\n",
      "R-squared:          0.184            Scale:              0.26525 \n",
      "------------------------------------------------------------------\n",
      "                Coef.   Std.Err.     t     P>|t|    [0.025  0.975]\n",
      "------------------------------------------------------------------\n",
      "Intercept      -0.8813    0.5502  -1.6018  0.1108  -1.9662  0.2037\n",
      "mean            1.2327    0.1842   6.6917  0.0000   0.8695  1.5960\n",
      "-----------------------------------------------------------------\n",
      "Omnibus:              12.989       Durbin-Watson:          2.277 \n",
      "Prob(Omnibus):        0.002        Jarque-Bera (JB):       14.960\n",
      "Skew:                 -0.509       Prob(JB):               0.001 \n",
      "Kurtosis:             3.870        Condition No.:          50    \n",
      "=================================================================\n",
      "\n"
     ]
    }
   ],
   "source": [
    "print(mod.summary2())"
   ]
  },
  {
   "cell_type": "code",
   "execution_count": 12,
   "metadata": {
    "collapsed": false
   },
   "outputs": [
    {
     "data": {
      "text/plain": [
       "(array([ 1.,  2.,  5., 15., 24., 38., 50., 38., 15., 12.]),\n",
       " array([-1.6107453 , -1.34981117, -1.08887703, -0.82794289, -0.56700875,\n",
       "        -0.30607462, -0.04514048,  0.21579366,  0.4767278 ,  0.73766194,\n",
       "         0.99859607]),\n",
       " <a list of 10 Patch objects>)"
      ]
     },
     "execution_count": 12,
     "metadata": {},
     "output_type": "execute_result"
    },
    {
     "data": {
      "image/png": "[encoded data removed]",
      "text/plain": [
       "<matplotlib.figure.Figure at 0x113cc6f98>"
      ]
     },
     "metadata": {},
     "output_type": "display_data"
    }
   ],
   "source": [
    "plt.hist(mod.resid)"
   ]
  },
  {
   "cell_type": "code",
   "execution_count": 59,
   "metadata": {
    "collapsed": false
   },
   "outputs": [
    {
     "name": "stdout",
     "output_type": "stream",
     "text": [
      "[ 50  68  87 106 125 144 163 182 201 220 239 258 277 296 315 334 353 372\n",
      " 391 410 429 448 467 486 505 524 543 562 581 600 619 638 657 676 695 714\n",
      " 733 752 771 790 809 828 847 866 885 904 923 942 961 980]\n",
      "[[1.         0.63637664]\n",
      " [0.63637664 1.        ]]\n"
     ]
    },
    {
     "data": {
      "image/png": "[encoded data removed]",
      "text/plain": [
       "<matplotlib.figure.Figure at 0x117c297b8>"
      ]
     },
     "metadata": {},
     "output_type": "display_data"
    },
    {
     "data": {
      "image/png": "[encoded data removed]",
      "text/plain": [
       "<matplotlib.figure.Figure at 0x117c296a0>"
      ]
     },
     "metadata": {},
     "output_type": "display_data"
    },
    {
     "data": {
      "image/png": "[encoded data removed]",
      "text/plain": [
       "<matplotlib.figure.Figure at 0x116dd2be0>"
      ]
     },
     "metadata": {},
     "output_type": "display_data"
    }
   ],
   "source": [
    "amplitude = 30\n",
    "base_line = 50\n",
    "true_r2 = 0.8\n",
    "n_exps = 1\n",
    "n = 1\n",
    "m = 2000\n",
    "angle = np.arccos(true_r2**0.5)\n",
    "#create the expected responses\n",
    "lambdas = base_line + (np.cos(np.linspace(0, 2*np.pi, m))*amplitude) #s\n",
    "y = np.random.poisson(lambdas, size=(n_exps, n, m)) # n_experiments n_trials m_stimuli\n",
    "plt.plot(y[0].T)\n",
    "\n",
    "bin_len=50\n",
    "bins = np.linspace(50,980,bin_len).astype(int)\n",
    "print(bins)\n",
    "ys = np.sort(y[0].ravel())\n",
    "plt.figure()\n",
    "plt.plot(ys)\n",
    "v = [np.var(ys[a_bin:a_bin+bin_len]) for a_bin in bins]\n",
    "m = [np.mean(ys[a_bin:a_bin+bin_len]) for a_bin in bins]\n",
    "\n",
    "plt.figure()\n",
    "plt.scatter(m,v)\n",
    "plt.xlabel('Mean')\n",
    "plt.ylabel('variance')\n",
    "print(np.corrcoef(m,v))\n",
    "    "
   ]
  },
  {
   "cell_type": "markdown",
   "metadata": {},
   "source": [
    "Here I want to figure out:\n",
    "Why should I use the log log transform to the mean and variance: sqaured and linear become orthogonal?\n",
    "How do my confidence intervals depend upon n, m, dynamic range, and mean. Which should I work the hardest to get?\n",
    "Why are my residuals not normal?\n",
    "\n"
   ]
  },
  {
   "cell_type": "code",
   "execution_count": 56,
   "metadata": {
    "collapsed": false
   },
   "outputs": [
    {
     "data": {
      "text/plain": [
       "(2000,)"
      ]
     },
     "execution_count": 56,
     "metadata": {},
     "output_type": "execute_result"
    }
   ],
   "source": [
    "ys.shape"
   ]
  },
  {
   "cell_type": "code",
   "execution_count": null,
   "metadata": {
    "collapsed": true
   },
   "outputs": [],
   "source": []
  }
 ],
 "metadata": {
  "kernelspec": {
   "display_name": "Python 3",
   "language": "python",
   "name": "python3"
  },
  "language_info": {
   "codemirror_mode": {
    "name": "ipython",
    "version": 3
   },
   "file_extension": ".py",
   "mimetype": "text/x-python",
   "name": "python",
   "nbconvert_exporter": "python",
   "pygments_lexer": "ipython3",
   "version": "3.5.2"
  }
 },
 "nbformat": 4,
 "nbformat_minor": 2
}
