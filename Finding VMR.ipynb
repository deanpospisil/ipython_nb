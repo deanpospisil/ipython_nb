{
 "cells": [
  {
   "cell_type": "markdown",
   "metadata": {},
   "source": [
    "## Measuring the Variance to Mean Ratio##\n",
    "\n",
    "In neurons there tends to be a strong linear dependence of the variance on the mean. We would like to measure both the strength of this relationship and the parameters of this relationship as best we can. There are a variety of choices both in analysis and experiment that can be adjusted to optimize the accuracy of this measurement as indexed by the bias and variance. To determine these trade offs requires a model.\n",
    "\n",
    "One issue is that not all neurons have a linear relationship between their mean and their variance. The model of tria-to-trial variability I have developed only accounts for a linear relationship and thus my interest is focused on those neurons which have a linear variance to mean relationship and thus I need a test for excluding a neuron sensitive to whether it deviates from a linear fit to its sample variances and mean.\n",
    "\n",
    "Given that it fits then I need a method for best estimating the VMR.\n",
    "\n",
    "\n",
    "### Analysis###\n",
    "\n",
    "$\\hat{\\mu} = $ estimator of mean\n",
    "\n",
    "$\\hat{\\sigma}^2= $ estimator of variance \n",
    "\n",
    "$\\hat{\\beta} = $ estimator of the relationship between variance and mean.\n",
    "\n",
    "\n",
    "### Experiment###\n",
    "$n = $ number of stimuli\n",
    "\n",
    "$m = $ number of trials\n",
    "\n",
    "$d = $ dynamic range of neuron.\n",
    "\n",
    "\n",
    "\n"
   ]
  },
  {
   "cell_type": "markdown",
   "metadata": {},
   "source": [
    "### Model###\n",
    "We can work this out for models of increasing complexity starting with a simple normal model.\n",
    "\n",
    "$$Y_i \\sim N(\\mu_i, \\beta \\mu_i)$$ with $\\beta$ and $\\mu_i$ unknown and we want to estimate $\\beta$\n",
    "\n",
    "We can take estimators of the mean and the variance:\n",
    "$$\\hat{\\mu_i} = \\frac{1}{m}\\sum_j^m{Y_{ij}}$$\n",
    "$$\\hat{\\sigma_i^2} = \\frac{1}{m-1}\\sum_j^m{(Y_{ij}-\\hat{\\mu_i})^2}$$\n",
    "\n",
    "So we have $n+1$ ($\\mu_i$ and $\\beta$) parameters we need to estimate and $nm$ data points. \n",
    "\n",
    "The natural exponential parameters in the case n=1 are ($\\frac{1}{\\beta}$ , $- \\frac{1}{2 \\beta \\mu}$) which spans a 2-d space which implies that ($\\sum_i^m{x_i}$, $\\sum_i^m{x_i^2}$) is the minimal sufficient statistic which has one-to-one transformation to $(\\bar{x}, s^2)$=($\\hat{\\mu_i}, \\hat{\\sigma_i}^2$). Which in turn implies if we can find an unbiased estimator which is a function of these statistics we then have the minimal variance estimator\n"
   ]
  },
  {
   "cell_type": "markdown",
   "metadata": {},
   "source": [
    "The distribution of these estimators in this case are:\n",
    "$$\\hat{\\mu_i} \\sim N(\\mu_i, \\frac{\\beta \\mu_i}{m})$$\n",
    "\n",
    "$$\\hat{\\sigma_i^2} \\sim \\beta \\mu_i \\chi_{m-1}^2 $$\n",
    "\n",
    "These are independent conditional on their parameters.\n",
    "One way to estimate $\\beta$ is via the coefficient of variation:\n",
    "\n",
    "$$\\frac{s^2}{\\bar{x}}$$\n",
    "\n",
    "Now we want to check whether it is unbiased:\n",
    "\n",
    "we know that the two statistics are uncorrelated and so $E(\\frac{s^2}{\\bar{x}}) = E(\\frac{s^2}{1})E(\\frac{1}{\\bar{x}}) = \\frac{\\beta \\mu}{1} E(\\frac{1}{\\bar{x}})$\n",
    "\n",
    "unfortunately $E(\\frac{1}{\\bar{x}})$ does not exist lets simulate and see what happens:"
   ]
  },
  {
   "cell_type": "code",
   "execution_count": 315,
   "metadata": {
    "collapsed": false
   },
   "outputs": [
    {
     "name": "stdout",
     "output_type": "stream",
     "text": [
      "3.9304739066\n",
      "1041.31885818\n"
     ]
    },
    {
     "data": {
      "image/png": "[encoded data removed]",
      "text/plain": [
       "<matplotlib.figure.Figure at 0x7fb3a88d62d0>"
      ]
     },
     "metadata": {},
     "output_type": "display_data"
    }
   ],
   "source": [
    "n=5\n",
    "x = np.random.normal(1,1**0.5,(n,100000))\n",
    "est = (np.var(x,0, ddof=1)/np.mean(x,0))\n",
    "\n",
    "plt.hist(est, bins=100, cumulative=False, histtype='step', normed=True);\n",
    "print(np.mean(est))\n",
    "print(np.std(est))\n",
    "\n",
    "#catastrophe for low mean and variance"
   ]
  },
  {
   "cell_type": "code",
   "execution_count": 316,
   "metadata": {
    "collapsed": false
   },
   "outputs": [
    {
     "name": "stdout",
     "output_type": "stream",
     "text": [
      "1.25541927013\n",
      "92.1700815873\n"
     ]
    },
    {
     "data": {
      "image/png": "[encoded data removed]",
      "text/plain": [
       "<matplotlib.figure.Figure at 0x7fb393418cd0>"
      ]
     },
     "metadata": {},
     "output_type": "display_data"
    }
   ],
   "source": [
    "est = np.var(x,0, ddof=1)/np.median(x,0)\n",
    "plt.hist(est, bins=100, cumulative=False, histtype='step', normed=True);\n",
    "print(np.mean(est))\n",
    "print(np.std(est))"
   ]
  },
  {
   "cell_type": "markdown",
   "metadata": {},
   "source": [
    "Another way to estimate $\\beta$ is via linear regression:"
   ]
  },
  {
   "cell_type": "markdown",
   "metadata": {},
   "source": [
    "Our model is:\n",
    "\n",
    "$\\sigma_i^2 = \\beta \\mu_i + \\epsilon (\\beta\\mu_i)$\n"
   ]
  },
  {
   "cell_type": "markdown",
   "metadata": {},
   "source": [
    "We estimate $\\beta$ by solving the equation:\n",
    "\n",
    "$\\hat{\\sigma_i^2} = \\beta \\hat{\\mu_i}$\n",
    "\n",
    "with least squares:\n",
    "\n",
    "$$\\hat{\\beta} = \\frac{\\sum_i^n{[\\hat{\\sigma_i^2} \\hat{\\mu_i}]}}{\\sum_i^n{[\\hat{\\mu_i} ]^2}}$$"
   ]
  },
  {
   "cell_type": "markdown",
   "metadata": {},
   "source": [
    "now to find the approximate distribution of $\\hat{\\beta}$ we will use the $\\delta$ method to do this we need:\n",
    "\n",
    "$E([\\hat{\\sigma_i^2} \\hat{\\mu_i}]) = \\beta$\n",
    "\n",
    "$E([\\hat{\\mu_i} ]^2)$\n",
    "\n",
    "$Var([\\hat{\\sigma_i^2} \\hat{\\mu_i}])$\n",
    "\n",
    "$Var([\\hat{\\mu_i} ]^2)$\n",
    "\n",
    "and\n",
    "\n",
    "$Cov([\\hat{\\sigma_i^2} \\hat{\\mu_i}], [\\hat{\\mu_i} ]^2)$\n",
    "\n",
    "\n",
    "A major problem here is that these are not IID our means and variances are changing. \n",
    "And also "
   ]
  },
  {
   "cell_type": "code",
   "execution_count": null,
   "metadata": {
    "collapsed": true
   },
   "outputs": [],
   "source": [
    "import matplotlib.pyplot as plt\n",
    "import numpy as np\n",
    "%matplotlib inline"
   ]
  },
  {
   "cell_type": "code",
   "execution_count": 56,
   "metadata": {
    "collapsed": false
   },
   "outputs": [
    {
     "data": {
      "text/plain": [
       "(200,)"
      ]
     },
     "execution_count": 56,
     "metadata": {},
     "output_type": "execute_result"
    }
   ],
   "source": [
    "lambdas.shape"
   ]
  },
  {
   "cell_type": "code",
   "execution_count": 320,
   "metadata": {
    "collapsed": false
   },
   "outputs": [
    {
     "name": "stdout",
     "output_type": "stream",
     "text": [
      "(1000, 100)\n"
     ]
    },
    {
     "data": {
      "image/png": "[encoded data removed]",
      "text/plain": [
       "<matplotlib.figure.Figure at 0x7fb3a90f2150>"
      ]
     },
     "metadata": {},
     "output_type": "display_data"
    }
   ],
   "source": [
    "amplitude = 49\n",
    "base_line = 50\n",
    "true_r2 = 0.8\n",
    "n_exps = 1000\n",
    "vmr = 2\n",
    "n = 10\n",
    "m = 100\n",
    "angle = np.arccos(true_r2**0.5)\n",
    "#create the expected responses\n",
    "lambdas = base_line + (np.cos(np.linspace(0, 2*np.pi, m))*amplitude) #s\n",
    "y = np.random.poisson(lambdas, size=(n_exps, n, m)) # n_experiments n_trials m_stimuli\n",
    "y = np.random.normal(lambdas, np.sqrt(vmr*lambdas), size=(n_exps, n, m)) # n_experiments n_trials m_stimuli\n",
    "\n",
    "y_mean = y.mean(1) # average the trials\n",
    "y_var = y.var(1, ddof=1)\n",
    "plt.scatter(y_mean[0], y_var[0])\n",
    "ax = plt.gca()\n",
    "ax.set_xscale(\"log\", nonposx='clip')\n",
    "ax.set_yscale(\"log\", nonposy='clip')\n",
    "plt.axis('square')\n",
    "plt.xlim([0.1,base_line*amplitude]);plt.ylim([0.1,base_line*amplitude])\n",
    "plt.plot([0.1,base_line*amplitude],[0.1,base_line*amplitude], color='r')\n",
    "plt.xlabel('Sample Mean');plt.ylabel('Sample Variance')\n",
    "print(y_mean.shape)"
   ]
  },
  {
   "cell_type": "code",
   "execution_count": 323,
   "metadata": {
    "collapsed": false
   },
   "outputs": [
    {
     "name": "stderr",
     "output_type": "stream",
     "text": [
      "/home/dean/anaconda2/lib/python2.7/site-packages/ipykernel/__main__.py:8: RuntimeWarning: invalid value encountered in log\n"
     ]
    }
   ],
   "source": [
    "from statsmodels.formula.api import ols\n",
    "import statsmodels.api as sm\n",
    "import pandas as pd\n",
    "slopes = []\n",
    "exps = []\n",
    "linslope = []\n",
    "for i in range(n_exps):\n",
    "    df = pd.DataFrame(np.array([np.log(y_mean[i]), np.log(y_var[i])]).T, columns=['mean', 'var'])\n",
    "    mod = (ols('var ~ mean', data=df).fit())\n",
    "    exps.append(mod.params[1])\n",
    "    slopes.append(mod.params[0])\n",
    "    df = pd.DataFrame(np.array([y_mean[i], y_var[i]]).T, columns=['mean', 'var'])\n",
    "    mod = (ols('var ~ mean -1', data=df).fit())\n",
    "    linslope.append(mod.params[0])"
   ]
  },
  {
   "cell_type": "code",
   "execution_count": 324,
   "metadata": {
    "collapsed": false
   },
   "outputs": [
    {
     "data": {
      "text/plain": [
       "0.17390354327811311"
      ]
     },
     "execution_count": 324,
     "metadata": {},
     "output_type": "execute_result"
    },
    {
     "data": {
      "image/png": "[encoded data removed]",
      "text/plain": [
       "<matplotlib.figure.Figure at 0x7fb3a9762d10>"
      ]
     },
     "metadata": {},
     "output_type": "display_data"
    }
   ],
   "source": [
    "plt.subplot(311)\n",
    "slopes = np.array(slopes)[~np.isinf(slopes)]\n",
    "plt.hist(np.exp(slopes), bins=50);\n",
    "plt.title(' log Slope Mean=' + str(np.exp(np.round(np.mean(slopes),2))))\n",
    "\n",
    "plt.subplot(312)\n",
    "exps = np.array(exps)[~np.isinf(slopes)]\n",
    "plt.hist(exps, bins=50);\n",
    "plt.title(' log Exps Mean=' + str(np.round(np.mean(exps),2)))\n",
    "plt.tight_layout()\n",
    "\n",
    "plt.subplot(312)\n",
    "exps = np.array(exps)[~np.isinf(slopes)]\n",
    "plt.hist(exps, bins=50);\n",
    "plt.title(' log Exps Mean=' + str(np.round(np.mean(exps),2)))\n",
    "plt.tight_layout()\n",
    "\n",
    "np.sum((exps - 1)**2)/1000\n",
    "np.sum((np.exp(slopes) - vmr)**2)/1000"
   ]
  },
  {
   "cell_type": "code",
   "execution_count": 201,
   "metadata": {
    "collapsed": false
   },
   "outputs": [
    {
     "name": "stdout",
     "output_type": "stream",
     "text": [
      "                  Results: Ordinary least squares\n",
      "==================================================================\n",
      "Model:              OLS              Adj. R-squared:     0.829    \n",
      "Dependent Variable: var              AIC:                1065.9584\n",
      "Date:               2018-07-06 13:27 BIC:                1068.5635\n",
      "No. Observations:   100              Log-Likelihood:     -531.98  \n",
      "Df Model:           1                F-statistic:        484.5    \n",
      "Df Residuals:       99               Prob (F-statistic): 6.41e-40 \n",
      "R-squared:          0.830            Scale:              2469.5   \n",
      "---------------------------------------------------------------------\n",
      "          Coef.     Std.Err.       t       P>|t|     [0.025    0.975]\n",
      "---------------------------------------------------------------------\n",
      "mean      1.9036      0.0865    22.0116    0.0000    1.7320    2.0752\n",
      "------------------------------------------------------------------\n",
      "Omnibus:              79.698       Durbin-Watson:          2.377  \n",
      "Prob(Omnibus):        0.000        Jarque-Bera (JB):       666.803\n",
      "Skew:                 2.506        Prob(JB):               0.000  \n",
      "Kurtosis:             14.615       Condition No.:          1      \n",
      "==================================================================\n",
      "\n",
      "0.367879441171\n"
     ]
    }
   ],
   "source": [
    "print(mod.summary2())\n",
    "print(np.exp(-1))"
   ]
  },
  {
   "cell_type": "code",
   "execution_count": 194,
   "metadata": {
    "collapsed": false
   },
   "outputs": [
    {
     "data": {
      "text/plain": [
       "0.098939797030805077"
      ]
     },
     "execution_count": 194,
     "metadata": {},
     "output_type": "execute_result"
    },
    {
     "data": {
      "image/png": "[encoded data removed]",
      "text/plain": [
       "<matplotlib.figure.Figure at 0x7fb3a8e3f6d0>"
      ]
     },
     "metadata": {},
     "output_type": "display_data"
    }
   ],
   "source": [
    "est = (y_var/y_mean).mean(1)\n",
    "plt.hist(est)\n",
    "np.sum((est - vmr)**2)/1000"
   ]
  },
  {
   "cell_type": "code",
   "execution_count": null,
   "metadata": {
    "collapsed": false
   },
   "outputs": [],
   "source": []
  },
  {
   "cell_type": "markdown",
   "metadata": {
    "collapsed": true
   },
   "source": [
    "\n",
    "Taking logs:\n",
    "$log(\\sigma_i^2) = log(\\beta) + log(\\mu_i)$\n",
    "\n",
    "Here $\\beta = \\frac{1}{n} \\sum_i^n{\\log(\\sigma_i^2)} - \\frac{1}{n} \\sum_i^n{\\log(\\mu_i)}$\n",
    "\n",
    "Our estimator of $\\beta$ will be:\n",
    "\n",
    "$\\hat{\\beta} = \\frac{1}{n} \\sum_i^n{\\log(\\hat{\\sigma_i^2})} - \\frac{1}{n} \\sum_i^n{\\log(\\hat{\\mu_i})}$"
   ]
  },
  {
   "cell_type": "code",
   "execution_count": null,
   "metadata": {
    "collapsed": true
   },
   "outputs": [],
   "source": []
  },
  {
   "cell_type": "code",
   "execution_count": null,
   "metadata": {
    "collapsed": true
   },
   "outputs": [],
   "source": []
  }
 ],
 "metadata": {
  "kernelspec": {
   "display_name": "Python 2",
   "language": "python",
   "name": "python2"
  },
  "language_info": {
   "codemirror_mode": {
    "name": "ipython",
    "version": 2
   },
   "file_extension": ".py",
   "mimetype": "text/x-python",
   "name": "python",
   "nbconvert_exporter": "python",
   "pygments_lexer": "ipython2",
   "version": "2.7.13"
  }
 },
 "nbformat": 4,
 "nbformat_minor": 2
}
