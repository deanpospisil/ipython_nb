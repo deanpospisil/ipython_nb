{
 "cells": [
  {
   "cell_type": "markdown",
   "metadata": {},
   "source": [
    "## Measuring the Variance to Mean Ratio##\n",
    "\n",
    "In neurons there tends to be a strong linear dependence of the variance on the mean. We would like to measure both the strength of this relationship and the parameters of this relationship as best we can. There are a variety of choices both in analysis and experiment that can be adjusted to optimize the accuracy of this measurement as indexed by the bias and variance. To determine these trade offs requires a model.\n",
    "\n",
    "One issue is that not all neurons have a linear relationship between their mean and their variance. The model of tria-to-trial variability I have developed only accounts for a linear relationship and thus my interest is focused on those neurons which have a linear variance to mean relationship and thus I need a test for excluding a neuron sensitive to whether it deviates from a linear fit to its sample variances and mean.\n",
    "\n",
    "Given that it fits then I need a method for best estimating the VMR.\n",
    "\n",
    "\n",
    "### Analysis###\n",
    "\n",
    "$\\hat{\\mu} = $ estimator of mean\n",
    "\n",
    "$\\hat{\\sigma}^2= $ estimator of variance \n",
    "\n",
    "$\\hat{\\beta} = $ estimator of the relationship between variance and mean.\n",
    "\n",
    "\n",
    "### Experiment###\n",
    "$n = $ number of stimuli\n",
    "\n",
    "$m = $ number of trials\n",
    "\n",
    "$d = $ dynamic range of neuron.\n",
    "\n",
    "\n",
    "\n"
   ]
  },
  {
   "cell_type": "markdown",
   "metadata": {},
   "source": [
    "### Model###\n",
    "We can work this out for models of increasing complexity starting with a simple normal model.\n",
    "\n",
    "$$Y_i \\sim N(\\mu_i, \\beta \\mu_i)$$ with $\\beta$ and $\\mu_i$ unknown and we want to estimate $\\beta$\n",
    "\n",
    "We can take estimators of the mean and the variance:\n",
    "$$\\hat{\\mu_i} = \\frac{1}{m}\\sum_j^m{Y_{ij}}$$\n",
    "$$\\hat{\\sigma_i^2} = \\frac{1}{m-1}\\sum_j^m{(Y_{ij}-\\hat{\\mu_i})^2}$$\n",
    "\n",
    "So we have $n+1$ ($\\mu_i$ and $\\beta$) parameters we need to estimate and $nm$ data points. \n",
    "\n",
    "The natural exponential parameters in the case n=1 are ($\\frac{1}{\\beta}$ , $- \\frac{1}{2 \\beta \\mu}$) which spans a 2-d space which implies that ($\\sum_i^m{x_i}$, $\\sum_i^m{x_i^2}$) is the minimal sufficient statistic which has one-to-one transformation to $(\\bar{x}, s^2)$=($\\hat{\\mu_i}, \\hat{\\sigma_i}^2$). Which in turn implies if we can find an unbiased estimator which is a function of these statistics we then have the minimal variance estimator\n"
   ]
  },
  {
   "cell_type": "markdown",
   "metadata": {},
   "source": [
    "The distribution of these estimators in this case are:\n",
    "$$\\hat{\\mu_i} \\sim N(\\mu_i, \\frac{\\beta \\mu_i}{m})$$\n",
    "\n",
    "$$\\hat{\\sigma_i^2} \\sim \\frac{\\beta \\mu_i}{m-1} \\chi_{m-1}^2 $$\n",
    "\n",
    "These are independent conditional on their parameters.\n",
    "One way to estimate $\\beta$ is via the coefficient of variation:\n",
    "\n",
    "$$\\frac{s^2}{\\bar{x}}$$\n",
    "\n",
    "Now we want to check whether it is unbiased:\n",
    "\n",
    "we know that the two statistics are uncorrelated and so $E(\\frac{s^2}{\\bar{x}}) = E(\\frac{s^2}{1})E(\\frac{1}{\\bar{x}}) = \\frac{\\beta \\mu}{1} E(\\frac{1}{\\bar{x}})$\n",
    "\n",
    "unfortunately $E(\\frac{1}{\\bar{x}})$ does not exist as the expectation goes to infinity when $x\\xrightarrow{} 0$\n",
    "\n",
    "One way to get around this is to truncate the distribution by only accepting neurons which have an average firing rate over 1, so you don't occasionally have the metric explode. Usually this won't cut off much of the distribution and by central limit theorem with more samples this expectation should be close to $\\frac{1}{\\mu}$\n",
    "\n",
    "Since it is now a truncated exponential distribution the estimators are still minimal sufficient. Lets figure out using the delta method approximately what the variance of $\\frac{1}{\\bar{x}}$ is:\n",
    "\n",
    "$$\\sqrt{n}(g(\\bar{x})-g(\\mu)))\\xrightarrow{} N(0,(\\frac{d}{dx} g(\\mu))^2 \\beta \\mu)$$\n",
    "\n",
    "$$\\sqrt{m}(\\frac{1}{\\bar{x}}-\\frac{1}{\\mu})\\xrightarrow{} N(0,\\frac{\\beta }{\\mu^3})$$\n",
    "\n",
    "so $Var(\\frac{1}{\\bar{x}}) \\approx \\frac{\\beta }{m \\mu^3}$\n",
    "\n",
    "Similarly we will approximate its expectations as $\\frac{1}{\\mu}$\n",
    "\n",
    "and the variance of $s^2$ is:\n",
    "$$Var(s^2) = \\frac{2(\\beta \\mu)^2}{m-1}$$\n",
    "\n",
    "and the expectation is:\n",
    "$$E(s^2) = \\beta \\mu$$\n",
    "\n"
   ]
  },
  {
   "cell_type": "markdown",
   "metadata": {},
   "source": [
    "Since X and Y are independent its pretty straightforward to get the $Var(\\frac{s^2}{\\bar{x}})$ if we ignore the excess moments and approximate  $s^2$ with a normal with the same mean and variance:\n",
    "\n",
    "$$Var(XY) = \\sigma^2_x \\sigma^2_y + \\mu_y^2 \\sigma_x^2 + \\mu_x^2 \\sigma_y^2$$"
   ]
  },
  {
   "cell_type": "markdown",
   "metadata": {},
   "source": [
    "$$Var(\\frac{s^2}{\\bar{x}}) = \\frac{\\beta }{m\\mu^3} \\frac{2(\\beta \\mu)^2}{m-1}+ (\\beta \\mu)^2 \\frac{\\beta }{m \\mu^3} + \\frac{1}{\\mu^2}\\frac{2(\\beta \\mu)^2}{m-1}$$"
   ]
  },
  {
   "cell_type": "markdown",
   "metadata": {},
   "source": [
    "$$= \\frac{\\beta^3}{m \\mu (m-1)} + \\frac{\\beta^3}{m \\mu} + \\frac{2 \\beta^2}{m-1}$$"
   ]
  },
  {
   "cell_type": "code",
   "execution_count": 36,
   "metadata": {
    "collapsed": false
   },
   "outputs": [
    {
     "name": "stdout",
     "output_type": "stream",
     "text": [
      "(10, 5, 10000)\n",
      "(10, 10000)\n",
      "(10, 10000)\n"
     ]
    },
    {
     "data": {
      "image/png": "[encoded data removed]",
      "text/plain": [
       "<matplotlib.figure.Figure at 0x1089d1cc0>"
      ]
     },
     "metadata": {},
     "output_type": "display_data"
    }
   ],
   "source": [
    "import matplotlib.pyplot as plt\n",
    "import numpy as np\n",
    "%matplotlib inline\n",
    "import numpy as np\n",
    "nsim = 10000\n",
    "m = 5\n",
    "vmr = 3\n",
    "nmu = 10\n",
    "mus = np.linspace(5, 100, nmu)\n",
    "x = np.array([np.random.normal(mu, (vmr*mu)**0.5, (m, nsim)) for mu in mus])\n",
    "print(x.shape)\n",
    "invxbar = np.zeros((nmu,nsim))\n",
    "#for i, a_x in enumerate(x):\n",
    "#    invxbar[i,:] = np.array([np.mean(a_a_x[a_a_x>1], 0)**-1 for a_a_x in a_x.T])\n",
    "x[x<1] = 1\n",
    "invxbar = np.mean(x,1)**-1\n",
    "print(invxbar.shape)\n",
    "\n",
    "invxbarvar = [np.var(a_invxbar, ddof=1) for a_invxbar in invxbar]\n",
    "plt.subplot(211)\n",
    "plt.loglog(mus, invxbarvar)\n",
    "invbar_theor = ((m-1)**-1)*(mus**-3)*vmr\n",
    "plt.loglog(mus, invbar_theor,linestyle='--')\n",
    "plt.title('Inverse Mean Variance')\n",
    "plt.legend(['Simulation', 'Delta Approx'])\n",
    "\n",
    "plt.subplot(212)\n",
    "plt.title('Sample variance variance')\n",
    "\n",
    "s2 = np.array([np.var(a_x, 0, ddof=1) for a_x in x])\n",
    "print(s2.shape)\n",
    "s2var = [np.var(a_s2, 0, ddof=1) for a_s2 in s2]\n",
    "\n",
    "plt.loglog(mus, s2var);\n",
    "plt.loglog(mus, ((2*(vmr*mus)**2)) / ((m-1)), linestyle='--')\n",
    "plt.legend(['Simulation', 'Theory']);\n",
    "\n",
    "plt.tight_layout()\n",
    "\n"
   ]
  },
  {
   "cell_type": "markdown",
   "metadata": {},
   "source": [
    "Notes, the delta approximation seems to improve with lower b, be worse for smaller $\\mu$ is essentially exponential. "
   ]
  },
  {
   "cell_type": "code",
   "execution_count": 100,
   "metadata": {
    "collapsed": false
   },
   "outputs": [
    {
     "name": "stdout",
     "output_type": "stream",
     "text": [
      "(100, 10, 50000)\n",
      "(100, 10000)\n"
     ]
    },
    {
     "data": {
      "text/plain": [
       "(0, 2.6666666666666665)"
      ]
     },
     "execution_count": 100,
     "metadata": {},
     "output_type": "execute_result"
    },
    {
     "data": {
      "image/png": "[encoded data removed]",
      "text/plain": [
       "<matplotlib.figure.Figure at 0x108cc5c18>"
      ]
     },
     "metadata": {},
     "output_type": "display_data"
    }
   ],
   "source": [
    "m = 10\n",
    "mus = np.linspace(1,100,100)\n",
    "vmr = 2\n",
    "\n",
    "x = np.array([np.random.normal(mu, (vmr*mu)**0.5, (m, 50000)) for mu in mus])\n",
    "print(x.shape)\n",
    "est_no_cut = (np.var(x,1, ddof=1)/np.mean(x, 1))\n",
    "print(est.shape)\n",
    "plt.plot(mus,est_no_cut.var(-1))\n",
    "\n",
    "x[x<1] = 1\n",
    "est_cut = (np.var(x,1, ddof=1)/np.mean(x, 1))\n",
    "plt.plot(mus, est_cut.var(-1))\n",
    "\n",
    "theory = (vmr**3)/(mus*m*(m-1)) + (vmr**3)/(mus*m) + (2*vmr**2)/(m-1)\n",
    "plt.plot(mus, theory)\n",
    "\n",
    "plt.xlabel(r'$\\mu$')\n",
    "plt.ylabel(r'$Var(\\frac{s^2}{\\bar{x}})$')\n",
    "\n",
    "plt.legend(['simulation uncut', 'simulation cut','theory'])\n",
    "plt.ylim(0, np.max(theory)*1.5)\n"
   ]
  },
  {
   "cell_type": "markdown",
   "metadata": {},
   "source": [
    "We find that if we do not cut off the averages when they get too small the estimates blow up explaining the deviation for small $m$ when the variance is too high from theory. Whereas if we set values less than 1 equal to 1, we get far less variance for smaller means because everything is being sucked into 1, but this is obviously increasing bias. Its seems to be generally we want large m to prevent this blow up problem for lower means. We also may want to consider the trade off of even including estimates from low means. \n",
    "\n",
    "What does the MSE look like?"
   ]
  },
  {
   "cell_type": "code",
   "execution_count": 99,
   "metadata": {
    "collapsed": false
   },
   "outputs": [
    {
     "data": {
      "image/png": "[encoded data removed]",
      "text/plain": [
       "<matplotlib.figure.Figure at 0x13b8bb780>"
      ]
     },
     "metadata": {},
     "output_type": "display_data"
    }
   ],
   "source": [
    "plt.figure(figsize=(6,3))\n",
    "plt.subplot(121)\n",
    "plt.plot(mus, np.mean((est_no_cut-vmr)**2,1))\n",
    "plt.plot(mus, np.mean((est_cut-vmr)**2, 1))\n",
    "\n",
    "theory = (vmr**3)/(mus*m*(m-1)) + (vmr**3)/(mus*m) + (2*vmr**2)/(m-1)\n",
    "plt.plot(mus, theory)\n",
    "\n",
    "plt.xlabel(r'$\\mu$')\n",
    "plt.ylabel(r'$MSE$')\n",
    "plt.legend(['simulation uncut', 'simulation cut','theory'])\n",
    "plt.ylim(0, np.max(theory)*1.5)\n",
    "\n",
    "plt.subplot(122)\n",
    "plt.plot(mus, np.mean((est_no_cut-vmr),1)**2)\n",
    "bias_cut = np.mean((est_cut-vmr),1)**2\n",
    "plt.plot(mus, bias_cut)\n",
    "\n",
    "plt.plot(mus, [0,]*len(mus))\n",
    "\n",
    "plt.xlabel(r'$\\mu$')\n",
    "plt.ylabel(r'$Bias^2$')\n",
    "plt.legend(['simulation uncut', 'simulation cut','theory'])\n",
    "plt.ylim(0,np.max(bias_cut));\n",
    "plt.tight_layout()"
   ]
  },
  {
   "cell_type": "markdown",
   "metadata": {
    "collapsed": false
   },
   "source": [
    "Now to further reduce our MSE because it is largely driven by variance rather than bias is to average:\n",
    "\n",
    "$$ \\hat{\\beta} = \\frac{1}{n}\\sum_i^n{\\frac{s^2_i}{\\bar{x}_i}}$$\n",
    "\n",
    "$$ Var(\\hat{\\beta}) \\approx \\frac{2 \\beta^2}{n(m-1)}$$\n",
    "\n",
    "so minimizing the variance is a matters of maximizing the denominator which for a fixed n+m is the case at: $n=m-1$\n",
    "\n",
    "I think this is close to the best we can do, but we should consider regression methods."
   ]
  },
  {
   "cell_type": "markdown",
   "metadata": {},
   "source": [
    "Another way to estimate $\\beta$ is via linear regression:"
   ]
  },
  {
   "cell_type": "markdown",
   "metadata": {},
   "source": [
    "Our model is:\n",
    "\n",
    "$\\sigma_i^2 = \\beta \\mu_i + \\epsilon (\\beta\\mu_i)$\n"
   ]
  },
  {
   "cell_type": "markdown",
   "metadata": {},
   "source": [
    "We estimate $\\beta$ by solving the equation:\n",
    "\n",
    "$\\hat{\\sigma_i^2} = \\beta \\hat{\\mu_i}$\n",
    "\n",
    "with least squares:\n",
    "\n",
    "$$\\hat{\\beta} = \\frac{\\sum_i^n{[\\hat{\\sigma_i^2} \\hat{\\mu_i}]}}{\\sum_i^n{[\\hat{\\mu_i} ]^2}}$$"
   ]
  },
  {
   "cell_type": "markdown",
   "metadata": {},
   "source": [
    "now to find the approximate distribution of $\\hat{\\beta}$ we will use the $\\delta$ method to do this we need:\n",
    "\n",
    "$E([\\hat{\\sigma_i^2} \\hat{\\mu_i}]) = \\beta$\n",
    "\n",
    "$E([\\hat{\\mu_i} ]^2)$\n",
    "\n",
    "$Var([\\hat{\\sigma_i^2} \\hat{\\mu_i}])$\n",
    "\n",
    "$Var([\\hat{\\mu_i} ]^2)$\n",
    "\n",
    "and\n",
    "\n",
    "$Cov([\\hat{\\sigma_i^2} \\hat{\\mu_i}], [\\hat{\\mu_i} ]^2)$\n",
    "\n",
    "\n",
    "A major problem here is that these are not IID our means and variances are changing. \n",
    "And also "
   ]
  },
  {
   "cell_type": "code",
   "execution_count": null,
   "metadata": {
    "collapsed": true
   },
   "outputs": [],
   "source": []
  },
  {
   "cell_type": "code",
   "execution_count": 56,
   "metadata": {
    "collapsed": false
   },
   "outputs": [
    {
     "data": {
      "text/plain": [
       "(200,)"
      ]
     },
     "execution_count": 56,
     "metadata": {},
     "output_type": "execute_result"
    }
   ],
   "source": [
    "lambdas.shape"
   ]
  },
  {
   "cell_type": "code",
   "execution_count": 320,
   "metadata": {
    "collapsed": false
   },
   "outputs": [
    {
     "name": "stdout",
     "output_type": "stream",
     "text": [
      "(1000, 100)\n"
     ]
    },
    {
     "data": {
      "image/png": "[encoded data removed]",
      "text/plain": [
       "<matplotlib.figure.Figure at 0x7fb3a90f2150>"
      ]
     },
     "metadata": {},
     "output_type": "display_data"
    }
   ],
   "source": [
    "amplitude = 49\n",
    "base_line = 50\n",
    "true_r2 = 0.8\n",
    "n_exps = 1000\n",
    "vmr = 2\n",
    "n = 10\n",
    "m = 100\n",
    "angle = np.arccos(true_r2**0.5)\n",
    "#create the expected responses\n",
    "lambdas = base_line + (np.cos(np.linspace(0, 2*np.pi, m))*amplitude) #s\n",
    "y = np.random.poisson(lambdas, size=(n_exps, n, m)) # n_experiments n_trials m_stimuli\n",
    "y = np.random.normal(lambdas, np.sqrt(vmr*lambdas), size=(n_exps, n, m)) # n_experiments n_trials m_stimuli\n",
    "\n",
    "y_mean = y.mean(1) # average the trials\n",
    "y_var = y.var(1, ddof=1)\n",
    "plt.scatter(y_mean[0], y_var[0])\n",
    "ax = plt.gca()\n",
    "ax.set_xscale(\"log\", nonposx='clip')\n",
    "ax.set_yscale(\"log\", nonposy='clip')\n",
    "plt.axis('square')\n",
    "plt.xlim([0.1,base_line*amplitude]);plt.ylim([0.1,base_line*amplitude])\n",
    "plt.plot([0.1,base_line*amplitude],[0.1,base_line*amplitude], color='r')\n",
    "plt.xlabel('Sample Mean');plt.ylabel('Sample Variance')\n",
    "print(y_mean.shape)"
   ]
  },
  {
   "cell_type": "code",
   "execution_count": 323,
   "metadata": {
    "collapsed": false
   },
   "outputs": [
    {
     "name": "stderr",
     "output_type": "stream",
     "text": [
      "/home/dean/anaconda2/lib/python2.7/site-packages/ipykernel/__main__.py:8: RuntimeWarning: invalid value encountered in log\n"
     ]
    }
   ],
   "source": [
    "from statsmodels.formula.api import ols\n",
    "import statsmodels.api as sm\n",
    "import pandas as pd\n",
    "slopes = []\n",
    "exps = []\n",
    "linslope = []\n",
    "for i in range(n_exps):\n",
    "    df = pd.DataFrame(np.array([np.log(y_mean[i]), np.log(y_var[i])]).T, columns=['mean', 'var'])\n",
    "    mod = (ols('var ~ mean', data=df).fit())\n",
    "    exps.append(mod.params[1])\n",
    "    slopes.append(mod.params[0])\n",
    "    df = pd.DataFrame(np.array([y_mean[i], y_var[i]]).T, columns=['mean', 'var'])\n",
    "    mod = (ols('var ~ mean -1', data=df).fit())\n",
    "    linslope.append(mod.params[0])"
   ]
  },
  {
   "cell_type": "code",
   "execution_count": 324,
   "metadata": {
    "collapsed": false
   },
   "outputs": [
    {
     "data": {
      "text/plain": [
       "0.17390354327811311"
      ]
     },
     "execution_count": 324,
     "metadata": {},
     "output_type": "execute_result"
    },
    {
     "data": {
      "image/png": "[encoded data removed]",
      "text/plain": [
       "<matplotlib.figure.Figure at 0x7fb3a9762d10>"
      ]
     },
     "metadata": {},
     "output_type": "display_data"
    }
   ],
   "source": [
    "plt.subplot(311)\n",
    "slopes = np.array(slopes)[~np.isinf(slopes)]\n",
    "plt.hist(np.exp(slopes), bins=50);\n",
    "plt.title(' log Slope Mean=' + str(np.exp(np.round(np.mean(slopes),2))))\n",
    "\n",
    "plt.subplot(312)\n",
    "exps = np.array(exps)[~np.isinf(slopes)]\n",
    "plt.hist(exps, bins=50);\n",
    "plt.title(' log Exps Mean=' + str(np.round(np.mean(exps),2)))\n",
    "plt.tight_layout()\n",
    "\n",
    "plt.subplot(312)\n",
    "exps = np.array(exps)[~np.isinf(slopes)]\n",
    "plt.hist(exps, bins=50);\n",
    "plt.title(' log Exps Mean=' + str(np.round(np.mean(exps),2)))\n",
    "plt.tight_layout()\n",
    "\n",
    "np.sum((exps - 1)**2)/1000\n",
    "np.sum((np.exp(slopes) - vmr)**2)/1000"
   ]
  },
  {
   "cell_type": "code",
   "execution_count": 201,
   "metadata": {
    "collapsed": false
   },
   "outputs": [
    {
     "name": "stdout",
     "output_type": "stream",
     "text": [
      "                  Results: Ordinary least squares\n",
      "==================================================================\n",
      "Model:              OLS              Adj. R-squared:     0.829    \n",
      "Dependent Variable: var              AIC:                1065.9584\n",
      "Date:               2018-07-06 13:27 BIC:                1068.5635\n",
      "No. Observations:   100              Log-Likelihood:     -531.98  \n",
      "Df Model:           1                F-statistic:        484.5    \n",
      "Df Residuals:       99               Prob (F-statistic): 6.41e-40 \n",
      "R-squared:          0.830            Scale:              2469.5   \n",
      "---------------------------------------------------------------------\n",
      "          Coef.     Std.Err.       t       P>|t|     [0.025    0.975]\n",
      "---------------------------------------------------------------------\n",
      "mean      1.9036      0.0865    22.0116    0.0000    1.7320    2.0752\n",
      "------------------------------------------------------------------\n",
      "Omnibus:              79.698       Durbin-Watson:          2.377  \n",
      "Prob(Omnibus):        0.000        Jarque-Bera (JB):       666.803\n",
      "Skew:                 2.506        Prob(JB):               0.000  \n",
      "Kurtosis:             14.615       Condition No.:          1      \n",
      "==================================================================\n",
      "\n",
      "0.367879441171\n"
     ]
    }
   ],
   "source": [
    "print(mod.summary2())\n",
    "print(np.exp(-1))"
   ]
  },
  {
   "cell_type": "code",
   "execution_count": 194,
   "metadata": {
    "collapsed": false
   },
   "outputs": [
    {
     "data": {
      "text/plain": [
       "0.098939797030805077"
      ]
     },
     "execution_count": 194,
     "metadata": {},
     "output_type": "execute_result"
    },
    {
     "data": {
      "image/png": "[encoded data removed]",
      "text/plain": [
       "<matplotlib.figure.Figure at 0x7fb3a8e3f6d0>"
      ]
     },
     "metadata": {},
     "output_type": "display_data"
    }
   ],
   "source": [
    "est = (y_var/y_mean).mean(1)\n",
    "plt.hist(est)\n",
    "np.sum((est - vmr)**2)/1000"
   ]
  },
  {
   "cell_type": "code",
   "execution_count": null,
   "metadata": {
    "collapsed": false
   },
   "outputs": [],
   "source": []
  },
  {
   "cell_type": "markdown",
   "metadata": {
    "collapsed": true
   },
   "source": [
    "\n",
    "Taking logs:\n",
    "$log(\\sigma_i^2) = log(\\beta) + log(\\mu_i)$\n",
    "\n",
    "Here $\\beta = \\frac{1}{n} \\sum_i^n{\\log(\\sigma_i^2)} - \\frac{1}{n} \\sum_i^n{\\log(\\mu_i)}$\n",
    "\n",
    "Our estimator of $\\beta$ will be:\n",
    "\n",
    "$\\hat{\\beta} = \\frac{1}{n} \\sum_i^n{\\log(\\hat{\\sigma_i^2})} - \\frac{1}{n} \\sum_i^n{\\log(\\hat{\\mu_i})}$"
   ]
  },
  {
   "cell_type": "code",
   "execution_count": null,
   "metadata": {
    "collapsed": true
   },
   "outputs": [],
   "source": []
  },
  {
   "cell_type": "code",
   "execution_count": null,
   "metadata": {
    "collapsed": true
   },
   "outputs": [],
   "source": []
  }
 ],
 "metadata": {
  "kernelspec": {
   "display_name": "Python 3",
   "language": "python",
   "name": "python3"
  },
  "language_info": {
   "codemirror_mode": {
    "name": "ipython",
    "version": 3
   },
   "file_extension": ".py",
   "mimetype": "text/x-python",
   "name": "python",
   "nbconvert_exporter": "python",
   "pygments_lexer": "ipython3",
   "version": "3.5.2"
  }
 },
 "nbformat": 4,
 "nbformat_minor": 2
}
