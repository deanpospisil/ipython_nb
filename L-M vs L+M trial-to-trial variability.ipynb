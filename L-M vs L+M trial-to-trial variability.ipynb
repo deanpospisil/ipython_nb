{
 "cells": [
  {
   "cell_type": "markdown",
   "metadata": {},
   "source": [
    "### Experiment ###\n",
    "\n",
    "Patty adapted V1 neurons to $L=M=S$ cone excitation or grey where firing rates were typically very low. Then while holding grey in one subunit he varied the amount of L and M excitation in the other subunit while holding S excitation constant. Then at $n$ points in the LM plane he completed $m$ repetitions of stimulation. He found a subset of neurons responses were well fit by an LN model defined by a direction and monotonically increasing nonlinearity in the LM plane. "
   ]
  },
  {
   "cell_type": "markdown",
   "metadata": {},
   "source": [
    "### Model###\n",
    "\n",
    "The prevailing model of the subunits responses is that they are an LN combination of a population of spatially overlapping ON and OFF center LGN Parvocellular L-M responses. I not going to consider the surround of these cells only the center considering stimulation was performed in the center of the subunit. I will model the resulting average changes in voltage post-stimulus from the ON and OFF cells as a normal random variable whose variance is proportional to its mean: $$P(d) \\sim N(I_{[0,+ \\infty]}(d), sI_{[0,+ \\infty]}(d))$$ with $s \\geq 0$, ignoring the fact that we can get negative values from these inputs.\n",
    "\n",
    "For subunits whose responses are defined by a preference for increments in the L+M direction we believe that the pool of ON and OFF cells have an equal excitatory influence upon the V1 cell we are recording from. Extending this to any direction preference $\\theta$  in the LM plane (L on the x-axis, M on the y-axis) is determined by the average weight for the center ON population $W_{ON}$ and OFF population $W_{OFF}$ with the two populations the same even size (n/2). \n",
    "\n",
    "$$W_{ON} = cos(\\theta)$$ \n",
    "$$W_{OFF} = sin(\\theta)$$\n",
    "\n",
    "we place this population into a random vector.\n",
    "\n",
    "$$\\vec{V} = \\begin{bmatrix} W_{ON} P_1(L-M) \\\\  \\vdots \\\\ W_{ON} P_{n/2}(L-M)\\\\ W_{OFF}P_{n/2+1}(M-L) \\\\ \\vdots  \\\\ W_{OFF} P_{n}(M-L) \\end{bmatrix}$$\n",
    "\n",
    "whose covariance is:\n",
    "\n",
    "$$\\Sigma = \\begin{bmatrix} \\Sigma_{1,1} & \\Sigma_{1,2} \\\\ \\Sigma_{2,1} & \\Sigma_{2,2} \\\\ \\end{bmatrix}$$\n",
    "\n",
    "where \n",
    "\n",
    "$$\\Sigma_{1,1} = I_{[0,+ \\infty]}(L-M) W_{ON}^2\\begin{bmatrix}\n",
    "    s(L-M) & \\rho s(L-M) &  \\dots  \\\\\n",
    "    \\rho s(L-M)  & s(L-M) &  \\dots   \\\\\n",
    "    \\vdots & \\vdots &  \\ddots \\\\\n",
    "    \\end{bmatrix} $$\n",
    "    \n",
    "\n",
    "$$\\Sigma_{2,2} = I_{[0,+ \\infty]}(M-L) W_{OFF}^2 \\begin{bmatrix}\n",
    "    s(M-L) &  \\rho s(M-L) &  \\dots  \\\\\n",
    "     \\rho s(M-L)  & s(M-L) &  \\dots   \\\\\n",
    "    \\vdots & \\vdots &  \\ddots \\\\\n",
    "    \\end{bmatrix} $$"
   ]
  },
  {
   "cell_type": "markdown",
   "metadata": {},
   "source": [
    "$$\\Sigma_{1,2} = I_{[0,+ \\infty]}(L-M) I_{[0,+ \\infty]}(M-L) W_{OFF}W_{ON} \\begin{bmatrix}\n",
    "    \\rho s (M-L)(L-M) &  \\dots  \\\\\n",
    "    \\vdots &   \\ddots \\\\\n",
    "    \\end{bmatrix} = \\Sigma_{2,1}^T$$\n",
    "\n",
    "and so the sum of these inputs is:\n",
    "\n",
    "$$V =  2\\frac{W_{ON}}{n} \\sum_{i=1}^{n/2}{P_i(L-M)} + 2\\frac{W_{OFF}}{n}\\sum_{i=n/2+1}^{n}{P_i(M-L)}$$\n",
    "\n",
    "so whats the distribution of $V$? Well its normal since $V$ is a sum of normals so suffices to find the mean and variance.\n",
    "\n",
    "Its expected value is:\n",
    "\n",
    "$$W_{ON} I_{[0,+ \\infty]}(L-M) + W_{OFF} I_{[0,+ \\infty]}(M-L) $$\n",
    "\n",
    "So the only regions of L,M space "
   ]
  },
  {
   "cell_type": "markdown",
   "metadata": {},
   "source": [
    "Previously I worked out that the firing rate of the neuron as a function of the average excitatory drive could be thought of as a hiearchacal RV:\n",
    "\n",
    "$$R \\sim B(n=1000, p=V) $$"
   ]
  },
  {
   "cell_type": "code",
   "execution_count": null,
   "metadata": {
    "collapsed": true
   },
   "outputs": [],
   "source": []
  }
 ],
 "metadata": {
  "kernelspec": {
   "display_name": "Python 3",
   "language": "python",
   "name": "python3"
  },
  "language_info": {
   "codemirror_mode": {
    "name": "ipython",
    "version": 3
   },
   "file_extension": ".py",
   "mimetype": "text/x-python",
   "name": "python",
   "nbconvert_exporter": "python",
   "pygments_lexer": "ipython3",
   "version": "3.5.2"
  }
 },
 "nbformat": 4,
 "nbformat_minor": 2
}
