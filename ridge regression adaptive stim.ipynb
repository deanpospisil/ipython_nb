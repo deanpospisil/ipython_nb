{
 "cells": [
  {
   "cell_type": "markdown",
   "metadata": {},
   "source": [
    "Adaptive simulation\n",
    "\n",
    "We would like to employ ridge regression to fit neurons responses to models, so that we can then guess at new stimuli which will drive the cell well.\n",
    "\n",
    "Ridge regression solves this equation:\n",
    "\n",
    "$$argmin_{\\beta} \\ \\ ( |\\vec{y} -\\beta X|^2 + \\lambda |\\beta| ^2) $$\n",
    "\n",
    "$\\vec{y}$ is some vector we are trying to fit using a linear combination of the matrix $X$ recombined using the vector $\\beta$. In addition we penalize   $|\\beta|^2$ the weights of this recombination their influence weighted by $\\lambda$.\n",
    "\n",
    "\n",
    "An alternative formulation is:\n",
    "\n",
    "$$argmin_{\\beta} \\ \\ ( |\\vec{y} -\\beta X|^2 ) $$\n",
    "$$|\\beta| ^2 \\leq t^2 $$\n",
    "\n"
   ]
  },
  {
   "cell_type": "markdown",
   "metadata": {},
   "source": [
    "Thus there is a restriction on the length of $\\beta$ and thus the length of $\\hat{y} = \\beta X$ "
   ]
  },
  {
   "cell_type": "markdown",
   "metadata": {},
   "source": [
    "Given our priors from neurons how should we set $\\lambda$ or equivalently $t$? Intuitvely we want $\\lambda$ to be large when there is alot of noise to prevent overfitting and we want it to be small when there is no noise so that we fit the large amount of signal. \n",
    "\n",
    "Well naively I assume we want to have some estimate of what the actual length of $\\vec{y}$ while removing the length that variance introduces. So lets find the distribution of a natural estimate of length of $\\vec{y}$: \n",
    "\n",
    "$$\\sum{(y_i-\\bar{y})^2}$$"
   ]
  },
  {
   "cell_type": "markdown",
   "metadata": {},
   "source": [
    "Lets assume the neuron we are fitting is Poisson distributed:\n",
    "\n",
    "$$Y_i \\sim P(\\lambda_i)$$\n",
    "\n",
    "Where $Y$ is the response of a neuron to $n$ stimuli each with respective drive $\\lambda_i$ and that response is Poisson distributed with mean $\\lambda_i$. Each response to a given stimuli is IID.\n",
    "\n",
    "by performing a square root transformation and invoking the CLT the problem becomes easier. First lets see what happens when we take the square root of our responses:\n",
    "\n",
    "\n",
    "$$E[\\sqrt{P(\\lambda)}] \\approx \\sqrt{\\lambda}$$ this is a reasonable approximation\n",
    "$$Var[\\sqrt{P(\\lambda)}] \\approx \\frac{1}{4}$$ the variance becomes a known constant\n",
    "\n",
    "this transformation also makes the responses more normally distributed, and the CLT kicks in as we add in more repeats to stimuli."
   ]
  },
  {
   "cell_type": "markdown",
   "metadata": {},
   "source": [
    "$$ \\bar{Y}_i \\sim N(\\sqrt{\\lambda_i}, \\frac{1}{4n})$$"
   ]
  },
  {
   "cell_type": "markdown",
   "metadata": {},
   "source": [
    "Our sample mean neural response distribution has become a spherical guassian with a known variance $\\frac{1}{4n}$ but unknown mean $\\sqrt{\\lambda_i}$. For simplicity lets call $\\bar{Y}_i$ $Y_i$ "
   ]
  },
  {
   "cell_type": "markdown",
   "metadata": {},
   "source": [
    "Thus estimating the length:\n",
    "\n",
    "$$D = \\sum{(Y_i-\\bar{Y})^2}$$\n",
    "\n",
    "\n",
    "We recognize each element is squared normal with some nozero mean, so $D \\sim \\frac{1}{4n} \\chi^2_{m-1}(4n \\sum_i^m{(\\sqrt{\\lambda_i} - \\overline{{\\sqrt{\\lambda}}}})^2)$ \n",
    "\n",
    "so the expect values is then:\n",
    "\n",
    "$$E[D] = \\frac{m}{4n} + \\sum_i^m{(\\sqrt{\\lambda_i} - \\overline{{\\sqrt{\\lambda}}}})^2$$\n",
    "\n",
    "so for an unbiased estimator we need to subtract off $\\frac{m}{4n}$"
   ]
  },
  {
   "cell_type": "markdown",
   "metadata": {},
   "source": [
    "Now with our reasonable estimator we see generally as the dynamic range increases we should be decreasing $\\lambda$"
   ]
  },
  {
   "cell_type": "code",
   "execution_count": null,
   "metadata": {
    "collapsed": true
   },
   "outputs": [],
   "source": []
  }
 ],
 "metadata": {
  "kernelspec": {
   "display_name": "Python 2",
   "language": "python",
   "name": "python2"
  },
  "language_info": {
   "codemirror_mode": {
    "name": "ipython",
    "version": 2
   },
   "file_extension": ".py",
   "mimetype": "text/x-python",
   "name": "python",
   "nbconvert_exporter": "python",
   "pygments_lexer": "ipython2",
   "version": "2.7.13"
  }
 },
 "nbformat": 4,
 "nbformat_minor": 2
}
