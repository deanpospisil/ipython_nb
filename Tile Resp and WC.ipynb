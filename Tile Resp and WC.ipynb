{
 "cells": [
  {
   "cell_type": "markdown",
   "metadata": {},
   "source": [
    "## Texture and Weight Covariance##\n",
    "\n",
    "I believe that weight covariance (WC), the average correlation between subunits in a DNN, constrains important response properties: translation invariance, texture selectivity (surfaces), and form selectivity (transitions). \n",
    "\n",
    "Texture selectivity can be defined as a unit preferring the spatial repetition of certain image structure while form selectivity can be defined as a unit preferring transition in image structure across space. Thus in one case if one take an image statistic measurment for units which prefer textures, for a certain sized window when that window is randomly place around the stimuli that best drive the cell there will be little variation, whereas for a form unit there will be variation but in a specific spatial pattern. Thus if I go from a single patch to one subunit to that patch tiled\n",
    "\n",
    "\n",
    "In the end I want to be able to understand the relation between WC and these properties so that by measuring them I can infer WC the causal variable in experiments that test these properties.\n",
    "\n",
    "Here I will come up with a series of more specific null distributions for the ratio of the response to a single image patch vs a tiling of that image patch which takes into account these variables:\n",
    "\n",
    "I will start with the assumption that all subunits are independent of each other\n",
    "\n"
   ]
  },
  {
   "cell_type": "markdown",
   "metadata": {},
   "source": [
    "The response of each subunit is the dot product of the subunits weights $\\vec{W}$ with the inputs of the image $\\vec{I}$. Then we place this same input in front of all subunits, then we add up all the subunits responses for the total response. Since these are all dot-products the overall response is a function of the amplitude of the input, the amplitude of the weights, and correlation between them $\\tilde{\\rho}$. So the response to the one input would be:\n",
    "\n",
    "$$r_s= |\\vec{I}| |\\vec{W}_1| \\tilde{\\rho}_1$$\n",
    "\n",
    "And the response to the tiled input would be:\n",
    "\n",
    "$$r_t = \\sum_j^n{\\vec{I} \\vec{W}_j} = |\\vec{I}|  \\sum_{j=2}^n{|\\vec{W}_j| \\tilde{\\rho}_j} + |\\vec{I}| |\\vec{W}_1|\\tilde{\\rho}_1 $$\n",
    "\n",
    "And so the ratio of tiled response to single patch:\n",
    "\n",
    "$$\\frac{r_t}{r_s}=R=\\frac{|\\vec{I}|  \\sum_{j=2}^n{|\\vec{W}_j| \\tilde{\\rho}_j}}{|\\vec{I}| |\\vec{W}_1|\\tilde{\\rho}_1} + 1 = \\frac{\\sum_{j=2}^n{|\\vec{W}_j| \\tilde{\\rho_j}}}{|\\vec{W}_1|\\tilde{\\rho}_1} +1$$\n",
    "Further assuming that the filters have the same magnitude:\n",
    "\n",
    "$$R = \\sum_{j=2}^n{\\frac{\\tilde{\\rho}_j}{\\tilde{\\rho}_1}}+ 1 $$"
   ]
  },
  {
   "cell_type": "markdown",
   "metadata": {},
   "source": [
    "Further assuming all filters have the same correlation to the input:\n",
    "\n",
    "$$R = n$$\n",
    "\n",
    "so naturally if all the filters have the same correlation as the first filter to the inputs then the ratio is equal to  $n$ total number of subunits whereas if all other subunits are uncorrelated then the ratio is 1. One thing to notice is that this does not require all the filters to be strongly correlated with each other."
   ]
  },
  {
   "cell_type": "markdown",
   "metadata": {},
   "source": [
    "### How does this ratio of tiled to untiled response relate to weight covariance? ###\n",
    "\n",
    "$$WC = \\frac{\\sum_{i \\neq j}{\\vec{W}_i \\vec{W}_j}}{\\sum_{i \\neq j}{|\\vec{W}_i| |\\vec{W}_j}|} = \\frac{\\sum_{i \\neq j}{|\\vec{W}_i| |\\vec{W}_j}| \\rho_{i,j}}{\\sum_{i \\neq j}{|\\vec{W}_i| |\\vec{W}_j}|}$$\n",
    "\n",
    "\n"
   ]
  },
  {
   "cell_type": "markdown",
   "metadata": {},
   "source": [
    "and if we assume all filters have the same length.\n",
    "$$ \\frac{\\sum_{i \\neq j}{\\rho_{i,j}}}{(n^2-n)} = \\bar{\\rho}$$\n",
    "\n",
    "and the same correlation:\n",
    "\n",
    "$$\\bar{\\rho} = \\rho_{i,j}$$"
   ]
  },
  {
   "cell_type": "markdown",
   "metadata": {},
   "source": [
    "So in some sense I can think of weight covariance as the average correlation between subunits (weighted by the magnitude of the subunits weights). So I have the average correlation between filters and I have the ratio of tiled to untiled as a function of the correlation of each filter to the input, how should these relate?\n",
    "\n",
    "Lets say I optimize for the center subunit and get the inputs to be perfectly correlated to the filter. Then in this special case $\\rho_1 =1$ and $\\tilde{\\rho_j} = \\bar{\\rho}$ so subunit 1 is at the center of a cone of the other filter weights.\n",
    "\n",
    "then the ratio becomes:\n",
    "\n",
    "$$R = \\sum_{j=2}^n{\\frac{\\tilde{\\rho}_j}{\\tilde{\\rho}_1}}+ 1 =  \\sum_{j=2}^n{\\frac{\\bar{\\rho}}{\\tilde{\\rho}_1}}+ 1 = (n-1) \\bar{\\rho}  + 1$$\n",
    "\n",
    "\n",
    "So in this case $R \\in \\ [2-n, n]$ and the key thing to notice is this is only a function of the correlation to the input "
   ]
  },
  {
   "cell_type": "markdown",
   "metadata": {},
   "source": [
    "### Estimating across multiple stimuli###\n",
    "So in this scenario $\\frac{r_t}{r_s} = (n-1) \\bar{\\rho}  + 1$ which is all to say $r_t= r_s[(n-1) \\bar{\\rho} + 1]$ a simple linear relationship between $r_t$ and $r_s$. Thus if we collected a bunch of responses to tiled vs untiled in this scenario we should expect a perfect linear relationship, proportional to the correlation between subunits and the number of subunits, fixing the number of subunits as we do in a CNN its purely a function of correlation between subunits or WC."
   ]
  },
  {
   "cell_type": "markdown",
   "metadata": {},
   "source": [
    "### Overlapping receptive fields###\n",
    "\n",
    "What about the cases where the receptive fields are overlapped. In this scenario one cannot present to only a single subunit. Thus the relative difference of presenting stimuli to one vs all becomes smaller. Lets think about this by believing that the response to the input patch is linearly proportional to the area of the input patch. So when we present the patch to one subunit, depending on the overlap between subunits, some portion of the patch is also shown to the other subunits. Lets call this average overlap with adjacenet subunits $O_a$ and with the first subunit $O_1$ where $O_1>=O_a$"
   ]
  },
  {
   "cell_type": "markdown",
   "metadata": {},
   "source": [
    "So the response to the one patch would be:\n",
    "\n",
    "$$r_s= O_1|\\vec{I}| |\\vec{W}_1| \\tilde{\\rho}_1  + O_a |\\vec{I}|  \\sum_{j=2}^n{|\\vec{W}_j| \\tilde{\\rho}_j}$$\n",
    "\n",
    "And the response to the tiled input would be:\n",
    "\n",
    "$$r_t = O_1 \\sum_j^n{\\vec{I} \\vec{W}_j} = O_1|\\vec{I}| |\\vec{W}_1|\\tilde{\\rho}_1 + O_1|\\vec{I}|  \\sum_{j=2}^n{|\\vec{W}_j| \\tilde{\\rho}_j} $$\n",
    "\n",
    "\n",
    "And the ratio is:\n",
    "\n",
    "$$\\frac{O_1|\\vec{I}| |\\vec{W}_1|\\tilde{\\rho}_1 + O_1|\\vec{I}|  \\sum_{j=2}^n{|\\vec{W}_j| \\tilde{\\rho}_j}}{O_1|\\vec{I}| |\\vec{W}_1| \\tilde{\\rho}_1  + O_a |\\vec{I}|  \\sum_{j=2}^n{|\\vec{W}_j| \\tilde{\\rho}_j}} $$\n",
    "\n",
    "Assuming equal Filter weights:\n",
    "\n",
    "$$\\frac{O_1 \\tilde{\\rho}_1 + O_1 (n-1)\\bar{\\rho}}{O_1 \\tilde{\\rho}_1  + O_a (n-1)\\bar{\\rho}} $$\n",
    "\n",
    "So if $O_1 = O_a$ we get no change even if the other filters are uncorrelated or perfectly correlated. But this is only the case if the stimuli is small and the RF's are close together. If the stimuli fills the entire center subunit and there is some distance between subunits then this ratio has to be greater than 1. Here there is still some dependence on $\\bar{\\rho}$ and $\\tilde{\\rho}$ but we can see how it can be subsumed by overlap.\n",
    "\n",
    "And assuming perfect correlation to the central :\n",
    "$$\\frac{O_1  + O_1 (n-1)\\bar{\\rho}}{O_1  + O_a (n-1)\\bar{\\rho}} $$\n",
    "\n",
    "The thing to notice here \n",
    "\n",
    "So in this scenario $\\frac{r_t}{r_s} = \\frac{O_1  + O_1 (n-1)\\bar{\\rho}}{O_1  + O_a (n-1)\\bar{\\rho}}  $ which is all to say $r_t= r_s[\\frac{O_1  + O_1 (n-1)\\bar{\\rho}}{O_1  + O_a (n-1)\\bar{\\rho}} ]$ a simple linear relationship between $r_t$ and $r_s$. Thus if we collected a bunch of responses to tiled vs untiled in this scenario we should expect a perfect linear relationship, proportional to the correlation between subunits and the number of subunits, fixing the number of subunits as we do in a CNN its purely a function of correlation between subunits or WC.\n",
    "\n",
    "\n",
    "### What if the central RF is not perfectly correlated to its input? ###\n",
    "\n",
    "In this case there is still a relationship between the weight covariance (average correlation between filters), the response to a single patch, and the response to multiple patches. In the extreme case as we saw above there is a simple linear relationship when the correlation of the central filter to the single patch is perfect. But what about when the correlation falls below 1 the relationship becomes more complex. We can imagine the central filter as a vector surrounded by a cone of the vectors representing the other filter channels and that whole ensemble pointing away fro mthe vector which represents the input. If we draw a circle of equal angle around the input which intersects the central filter vector we notice that more vectors are on the outside of the circle thus have lower correlation, so we should expect tiling to drive up responses less proportional to weight covariance when the central filter is not perfectly aligned. \n",
    "\n",
    "I expect:\n",
    "\n",
    "$$R = \\frac{(n-1) g(\\bar{\\rho})}{\\tilde{\\rho}}  + 1$$\n",
    "\n",
    "where $0 \\leq g(x) \\leq x$ and $g(x)$ is montone increasing, so while we might think that if all vectors were as correlated to each other as to the stimuli we would get a ratio of $n$ we should actually expect to get less than n.\n",
    "\n",
    "To calculate our expectation here we could either use simulation or I think the doubly noncentral F distribution..."
   ]
  },
  {
   "cell_type": "markdown",
   "metadata": {},
   "source": [
    "\n",
    "\n",
    "$$\\frac{O_1|\\vec{W}_1|\\tilde{\\rho}_1 + O_1  \\sum_{j=2}^n{|\\vec{W}_j| \\tilde{\\rho}_j}}{O_1 |\\vec{W}_1| \\tilde{\\rho}_1  + O_a  \\sum_{j=2}^n{|\\vec{W}_j| \\tilde{\\rho}_j}} $$ "
   ]
  },
  {
   "cell_type": "markdown",
   "metadata": {},
   "source": [
    "##Calculating ###\n",
    "\n",
    "If we think about the receptive field overlap on a line then the overlap is a function of RF radius $R_r$, distance between RF centers $(D)$, and radius of the patch $(P_r)$.\n",
    "\n",
    "The center subunits fraction length taken by patch $O_d$ in 1-d is simply \n",
    "\n",
    "$$O_c = \\frac{P_r}{R_r}$$\n",
    "\n",
    "taking this to two dimensions we can consider rotating this length.\n",
    "\n",
    "$$O_c = \\frac{\\pi (P_r)^2 } {\\pi (R_r)^2} = (\\frac{P_r}{R_r})^2$$"
   ]
  },
  {
   "cell_type": "markdown",
   "metadata": {},
   "source": [
    "What about the case where the center filter isn't perfectly correlated with its inputs? \n",
    "\n",
    "Then it can be helpful to think of each weight vector as composed of draws from an IID normal which is correlated to the normals of the other vectors. In this case the distribution of tiled responses becomes related to the double non-central beta distribution....\n",
    "\n",
    "What about the case where the filters are not independent but have overlapping receptive fields...\n",
    "Well we have to think about a couple issues: the pooling rule, translation invariance within the RF of each subunit, and the degree of overlap between receptive fields. We hope that we can factor these independently then include them in the above equation.\n",
    "\n",
    "Lets assume perfect translation invariance, so that the overlap between two receptive fields with the same power simply doubles the response. In this case having the patch in the center is also driving adjacent subunits, thus we have a new baseline assuming all positive covariance between filters the tiled ratio will as a rule tend to be less.\n",
    "\n",
    "With a pooling rule that tends to be linear at a distance and complex close by, then with increasing overlap we get more noise in the relationship, and further a better relation.\n",
    "\n",
    "With no translation invariance you can consider the individual repsonses. Or think about it as noise."
   ]
  },
  {
   "cell_type": "markdown",
   "metadata": {},
   "source": [
    "If I have the response of a collection of subunits how can I judge whether they have similar selectivity. One way is to present the same stimuli to one then the other and show their responses are correlated. \n",
    "\n",
    "Another way is to compare the response to a stimuli presented to one and then both subunits and to show, given linear pooling, the correlation between both conditions\n",
    "\n",
    "\n",
    "### what does the tiling ratio tell you? ###\n",
    "it tells you about the true correlation of the stimuli to the cell. Something can give its max response even if its not well correlated. Its preferred image is not an actual image.\n",
    "\n",
    "It would like a repetition of clear dog faces with shifts only as as wide as the dogs nose. What would an impossible image look like."
   ]
  },
  {
   "cell_type": "markdown",
   "metadata": {},
   "source": [
    "### What about dense tiling?###\n"
   ]
  },
  {
   "cell_type": "code",
   "execution_count": 31,
   "metadata": {
    "collapsed": false
   },
   "outputs": [
    {
     "data": {
      "image/png": "[encoded data removed]",
      "text/plain": [
       "<matplotlib.figure.Figure at 0x7fdf2c5b62d0>"
      ]
     },
     "metadata": {},
     "output_type": "display_data"
    }
   ],
   "source": [
    "import matplotlib.pyplot as plt\n",
    "import numpy as np\n",
    "%matplotlib inline\n",
    "tot_rf = 18\n",
    "sub_rf = 7\n",
    "rf_side = np.floor(sub_rf/2.)\n",
    "in_im_s = 30\n",
    "input_im = np.zeros(in_im_s)\n",
    "start_rf = 7\n",
    "\n",
    "thirds = tot_rf/3.\n",
    "\n",
    "rf = np.ones(sub_rf)/sub_rf\n",
    "rf_inds = np.arange(start_rf, start_rf + tot_rf ).astype(int)\n",
    "sub_inds = np.arange(start_rf+rf_side, start_rf+tot_rf-rf_side).astype(int)\n",
    "input_1_inds = np.arange(thirds + start_rf, tot_rf + start_rf - thirds).astype(int) \n",
    "\n",
    "\n",
    "plt.figure(figsize=(4,8));\n",
    "plt.subplot(711)\n",
    "rf_loc =  np.zeros(in_im_s);\n",
    "rf_loc[rf_inds] = 1\n",
    "plt.stem(rf_loc);\n",
    "plt.title('RF extent');\n",
    "\n",
    "plt.subplot(712)\n",
    "rf_subunit_locs = np.zeros(in_im_s);\n",
    "rf_subunit_locs[sub_inds] = 1\n",
    "plt.stem(rf_subunit_locs);\n",
    "plt.title('Subunit Locs');\n",
    "\n",
    "plt.subplot(713)\n",
    "input_im = np.zeros(in_im_s);\n",
    "input_im[input_1_inds] = 1\n",
    "plt.stem(input_im)\n",
    "plt.title('Input small center')\n",
    "\n",
    "plt.subplot(714)\n",
    "res = np.convolve(rf, input_im, 'same');\n",
    "plt.stem(res*rf_subunit_locs);\n",
    "plt.title('Result =' + str(sum(res*rf_subunit_locs)))\n",
    "\n",
    "plt.subplot(715)\n",
    "input_im = np.zeros(in_im_s);\n",
    "input_im[rf_inds] = 1\n",
    "plt.stem(input_im)\n",
    "plt.title('Input large center')\n",
    "\n",
    "plt.subplot(716)\n",
    "res = np.convolve(rf, input_im, 'same');\n",
    "plt.stem(res);\n",
    "plt.title('Result =' + str(sum(res)))\n",
    "\n",
    "\n",
    "plt.subplot(717)\n",
    "res = np.convolve(rf, input_im, 'same');\n",
    "plt.stem(res*rf_subunit_locs);\n",
    "plt.title('Result =' + str(sum(res*rf_subunit_locs)))\n",
    "\n",
    "plt.tight_layout()"
   ]
  },
  {
   "cell_type": "markdown",
   "metadata": {
    "collapsed": true
   },
   "source": [
    "1.) the extent of the RF is indicated.\n",
    "\n",
    "2.) the location of the subunits is indicated. Each of their RF's is driven at most by a full rf to 1. \n",
    "\n",
    "3.) we have an input that takes up a third of the center of the receptive field. \n",
    "\n",
    "4.) we see the responses of each subunit.\n",
    "\n",
    "5.) Then we try a large input where we triple the area.\n",
    "\n",
    "6.) Then we see the responses of the subunits which is not a total tripling of the response.\n",
    "\n",
    "\n",
    "Why is tripling the area of th input not tripling the over all response and why is the response being less than triple proportional to the RF scale.\n",
    "\n",
    "Well one answer is that is just the way this type of convolution works.\n",
    "The intuitive answer is that when you place the stimuli in the center of the receptive field you get all these subunits eccentric to the center that are picking up a response.\n",
    "Whereas when the stimuli fills the recepetive field, you get extra mopped up at the edges because there are no extra subunits to pick it up. \n",
    "\n",
    "If you think of a stimuli on the very left edge of the receptive field, while it may have many overlapping subunits picking it up from the right, it has no overlapping subunits to the left. \n",
    "\n",
    "Whereas when the patch is in the center it has overlapping subunits from the left and right. \n",
    "\n",
    "So with dense tiling what is the relation between RF size, subunit size, and tiled vs untiled responses?\n",
    "\n"
   ]
  },
  {
   "cell_type": "markdown",
   "metadata": {},
   "source": [
    "Let $RF_s$ be the subunit rf width, let $RF_r$ be the total receptive field width, and $S$ be  the stimulus width and . With $S<RF_r$ then the ratio of response to a central stimulus:\n",
    "\n",
    "There are two cases to consider:\n",
    "1. $RF_s>S$\n",
    "There are two cases to consider:\n",
    "\n",
    "a.)  $RF_s>(RF_r-S)/2$\n",
    "\n",
    "$h*((RF_s - S) + RF_s)$ is the area of the response \n",
    "\n",
    "b.)  $RF_s<(RF_r-S)/2$\n",
    "\n",
    "\n",
    "\n",
    "There are two parts of the convolution, the flat top, and the triangular roll off on the edges.\n",
    "\n",
    "$|RF_s - S|$ is the maximal length of the flat top\n",
    "\n",
    "\n",
    "\n",
    "$$ is the triangular roll off which cannot be greater than min(S, RF_s)\n",
    "2. $RF_s<S$\n"
   ]
  },
  {
   "cell_type": "code",
   "execution_count": null,
   "metadata": {
    "collapsed": true
   },
   "outputs": [],
   "source": [
    "As a general rule "
   ]
  }
 ],
 "metadata": {
  "kernelspec": {
   "display_name": "Python 2",
   "language": "python",
   "name": "python2"
  },
  "language_info": {
   "codemirror_mode": {
    "name": "ipython",
    "version": 2
   },
   "file_extension": ".py",
   "mimetype": "text/x-python",
   "name": "python",
   "nbconvert_exporter": "python",
   "pygments_lexer": "ipython2",
   "version": "2.7.13"
  }
 },
 "nbformat": 4,
 "nbformat_minor": 2
}
